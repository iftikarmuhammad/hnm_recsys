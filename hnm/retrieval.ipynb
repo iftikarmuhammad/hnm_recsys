{
 "cells": [
  {
   "cell_type": "code",
   "execution_count": 1,
   "id": "17acabec",
   "metadata": {
    "scrolled": true
   },
   "outputs": [
    {
     "name": "stderr",
     "output_type": "stream",
     "text": [
      "C:\\Users\\WNLAB\\anaconda3\\envs\\ikar_hnm\\lib\\site-packages\\tqdm\\auto.py:22: TqdmWarning: IProgress not found. Please update jupyter and ipywidgets. See https://ipywidgets.readthedocs.io/en/stable/user_install.html\n",
      "  from .autonotebook import tqdm as notebook_tqdm\n"
     ]
    }
   ],
   "source": [
    "import os\n",
    "import time\n",
    "import pprint\n",
    "\n",
    "%matplotlib inline\n",
    "import matplotlib.pyplot as plt\n",
    "\n",
    "import numpy as np\n",
    "import pandas as pd\n",
    "import tensorflow as tf\n",
    "\n",
    "import tensorflow_datasets as tfds\n",
    "import tensorflow_recommenders as tfrs\n",
    "\n",
    "from typing import Dict, Text\n",
    "\n",
    "plt.style.use('seaborn-whitegrid')"
   ]
  },
  {
   "cell_type": "markdown",
   "id": "24ba398a",
   "metadata": {},
   "source": [
    "## Data Preprocessing"
   ]
  },
  {
   "cell_type": "markdown",
   "id": "4a5a7b33",
   "metadata": {},
   "source": [
    "#### Load dataset"
   ]
  },
  {
   "cell_type": "code",
   "execution_count": 2,
   "id": "ebeb6d11",
   "metadata": {},
   "outputs": [],
   "source": [
    "# Set seed for reproducibility\n",
    "seed = 17\n",
    "tf.random.set_seed(seed)\n",
    "np.random.seed(seed)"
   ]
  },
  {
   "cell_type": "code",
   "execution_count": 3,
   "id": "e426694e",
   "metadata": {},
   "outputs": [],
   "source": [
    "article_df = pd.read_csv('dataset/articles.csv')\n",
    "# article_top_df = pd.read_csv('dataset/articles_ranked.csv')\n",
    "\n",
    "customer_df = pd.read_csv('dataset/customers.csv')\n",
    "trans_df = pd.read_csv('dataset/transactions_train.csv')"
   ]
  },
  {
   "cell_type": "markdown",
   "id": "6207b42b",
   "metadata": {},
   "source": [
    "#### Use only top-K articles"
   ]
  },
  {
   "cell_type": "code",
   "execution_count": 4,
   "id": "7f7b697f",
   "metadata": {},
   "outputs": [],
   "source": [
    "TOP_K = 20000  # currently not used\n",
    "N_SAMPLES = int(1e6)"
   ]
  },
  {
   "cell_type": "code",
   "execution_count": 5,
   "id": "5c11ffdf",
   "metadata": {},
   "outputs": [],
   "source": [
    "# article_top_df.head(12)['article_id'].to_list()\n",
    "# percentage = article_top_df[\"transaction_counts\"][:TOP_K].sum() / article_top_df[\"transaction_counts\"].sum()"
   ]
  },
  {
   "cell_type": "code",
   "execution_count": 6,
   "id": "d261f759",
   "metadata": {
    "scrolled": true
   },
   "outputs": [],
   "source": [
    "# print(f\"Top {TOP_K} most sold H&M articles only account for {percentage:.2%} of the total (sold) articles\")"
   ]
  },
  {
   "cell_type": "markdown",
   "id": "f0108641",
   "metadata": {},
   "source": [
    "#### Get random N samples"
   ]
  },
  {
   "cell_type": "code",
   "execution_count": 7,
   "id": "2ac9a48e",
   "metadata": {},
   "outputs": [],
   "source": [
    "trans_df = trans_df.sample(frac=1, random_state=seed)"
   ]
  },
  {
   "cell_type": "code",
   "execution_count": 8,
   "id": "56e7edf6",
   "metadata": {
    "scrolled": false
   },
   "outputs": [],
   "source": [
    "trans_df = trans_df.head(N_SAMPLES)"
   ]
  },
  {
   "cell_type": "code",
   "execution_count": 9,
   "id": "d81994fb",
   "metadata": {},
   "outputs": [
    {
     "data": {
      "text/plain": [
       "0.3543295091765186"
      ]
     },
     "execution_count": 9,
     "metadata": {},
     "output_type": "execute_result"
    }
   ],
   "source": [
    "len(trans_df.customer_id.unique()) / 1371980"
   ]
  },
  {
   "cell_type": "code",
   "execution_count": 10,
   "id": "1825006d",
   "metadata": {},
   "outputs": [],
   "source": [
    "article_df.fillna(value='', inplace=True)"
   ]
  },
  {
   "cell_type": "code",
   "execution_count": 11,
   "id": "c8e9632e",
   "metadata": {
    "scrolled": true
   },
   "outputs": [],
   "source": [
    "trans_df['t_dat'] = pd.to_datetime(trans_df['t_dat']).values.astype(int) / 10**9"
   ]
  },
  {
   "cell_type": "code",
   "execution_count": 12,
   "id": "6c9a7298",
   "metadata": {},
   "outputs": [],
   "source": [
    "trans_df.rename(columns={\"t_dat\":\"timestamp\"}, inplace=True)"
   ]
  },
  {
   "cell_type": "code",
   "execution_count": 13,
   "id": "75d9281d",
   "metadata": {},
   "outputs": [],
   "source": [
    "article_map = dict(article_df[['article_id', 'prod_name']].values)"
   ]
  },
  {
   "cell_type": "code",
   "execution_count": 14,
   "id": "aedf5623",
   "metadata": {},
   "outputs": [],
   "source": [
    "trans_df['prod_name'] = trans_df.article_id.map(article_map)"
   ]
  },
  {
   "cell_type": "code",
   "execution_count": 15,
   "id": "aebe726a",
   "metadata": {},
   "outputs": [],
   "source": [
    "articles = tf.data.Dataset.from_tensor_slices(dict(article_df)).map(lambda x: {\n",
    "    'article_id' : tf.strings.as_string(x['article_id']),\n",
    "    'prod_name' : x['prod_name'],\n",
    "})\n",
    "\n",
    "trans = tf.data.Dataset.from_tensor_slices(dict(trans_df)).map(lambda x: {\n",
    "    'customer_id' : x['customer_id'],\n",
    "    'article_id' : tf.strings.as_string(x['article_id']),\n",
    "    'prod_name' : x['prod_name'],\n",
    "    'timestamp' : x['timestamp'],\n",
    "})\n"
   ]
  },
  {
   "cell_type": "markdown",
   "id": "d1da9b06",
   "metadata": {},
   "source": [
    "#### Features Preprocessing"
   ]
  },
  {
   "cell_type": "code",
   "execution_count": 16,
   "id": "6550589a",
   "metadata": {},
   "outputs": [],
   "source": [
    "timestamps = np.concatenate(list(trans.map(lambda x: x[\"timestamp\"]).batch(100)))\n",
    "\n",
    "max_timestamp = timestamps.max()\n",
    "min_timestamp = timestamps.min()\n",
    "\n",
    "timestamp_buckets = np.linspace(\n",
    "    min_timestamp, max_timestamp, num=1000,\n",
    ")"
   ]
  },
  {
   "cell_type": "code",
   "execution_count": 17,
   "id": "1076326c",
   "metadata": {},
   "outputs": [],
   "source": [
    "### USE THIS TO AVOID STRINGLOOKUP\n",
    "article_ids = articles.map(lambda x: x['article_id']).batch(1_000)\n",
    "unique_article_ids = np.unique(np.concatenate(list(article_ids)))\n",
    "\n",
    "customer_ids = trans.map(lambda x: x['customer_id']).batch(1_000)\n",
    "unique_customer_ids = np.unique(np.concatenate(list(customer_ids)))"
   ]
  },
  {
   "cell_type": "markdown",
   "id": "d37f4609",
   "metadata": {},
   "source": [
    "## Two-tower Model"
   ]
  },
  {
   "cell_type": "code",
   "execution_count": 18,
   "id": "b019d1ea",
   "metadata": {},
   "outputs": [],
   "source": [
    "class CustomerModel(tf.keras.Model):\n",
    "  def __init__(self, use_timestamps):\n",
    "    super().__init__()\n",
    "\n",
    "    self._use_timestamps = use_timestamps\n",
    "    \n",
    "    embedding_dim = 32\n",
    "    \n",
    "    self.user_embedding = tf.keras.Sequential([\n",
    "        tf.keras.layers.StringLookup(\n",
    "            vocabulary=unique_customer_ids, mask_token=None),\n",
    "        tf.keras.layers.Embedding(len(unique_customer_ids) + 1, embedding_dim),\n",
    "    ])\n",
    "\n",
    "    if use_timestamps:\n",
    "      self.timestamp_embedding = tf.keras.Sequential([\n",
    "          tf.keras.layers.Discretization(timestamp_buckets.tolist()),\n",
    "          tf.keras.layers.Embedding(len(timestamp_buckets) + 1, embedding_dim),\n",
    "      ])\n",
    "      self.normalized_timestamp = tf.keras.layers.Normalization(\n",
    "          axis=None\n",
    "      )\n",
    "\n",
    "      self.normalized_timestamp.adapt(timestamps)\n",
    "\n",
    "  def call(self, inputs):\n",
    "    print(input)\n",
    "    if not self._use_timestamps:\n",
    "      return self.user_embedding(inputs[\"customer_id\"])\n",
    "\n",
    "    return tf.concat([\n",
    "        self.user_embedding(inputs[\"customer_id\"]),\n",
    "        self.timestamp_embedding(inputs[\"timestamp\"]),\n",
    "        tf.reshape(self.normalized_timestamp(inputs[\"timestamp\"]), (-1, 1)),\n",
    "    ], axis=1)"
   ]
  },
  {
   "cell_type": "code",
   "execution_count": 19,
   "id": "1f161d50",
   "metadata": {},
   "outputs": [],
   "source": [
    "class ArticleModel(tf.keras.Model):\n",
    "\n",
    "  def __init__(self):\n",
    "    super().__init__()\n",
    "\n",
    "    max_tokens = 10_000\n",
    "    \n",
    "    embedding_dim = 32\n",
    "\n",
    "    self.article_id_embedding = tf.keras.Sequential([\n",
    "      tf.keras.layers.StringLookup(\n",
    "          vocabulary=unique_article_ids, mask_token=None),\n",
    "      tf.keras.layers.Embedding(len(unique_article_ids) + 1, embedding_dim)\n",
    "    ])\n",
    "\n",
    "    self.article_vectorizer = tf.keras.layers.TextVectorization(\n",
    "        max_tokens=max_tokens)\n",
    "\n",
    "    self.article_text_embedding = tf.keras.Sequential([\n",
    "      self.article_vectorizer,\n",
    "      tf.keras.layers.Embedding(max_tokens, embedding_dim, mask_zero=True),\n",
    "      tf.keras.layers.GlobalAveragePooling1D(),\n",
    "    ])\n",
    "\n",
    "    self.article_vectorizer.adapt(articles.map(lambda x: x[\"prod_name\"]))\n",
    "\n",
    "  def call(self, inputs):\n",
    "    return tf.concat([\n",
    "        self.article_id_embedding(inputs[\"article_id\"]),\n",
    "        self.article_text_embedding(inputs[\"prod_name\"]),\n",
    "    ], axis=1)"
   ]
  },
  {
   "cell_type": "code",
   "execution_count": 20,
   "id": "eb0e712c",
   "metadata": {},
   "outputs": [],
   "source": [
    "class HNMModel(tfrs.models.Model):\n",
    "\n",
    "  def __init__(self, use_timestamps):\n",
    "    super().__init__()\n",
    "    self.query_model = tf.keras.Sequential([\n",
    "      CustomerModel(use_timestamps),\n",
    "      tf.keras.layers.Dense(32)\n",
    "    ])\n",
    "    self.candidate_model = tf.keras.Sequential([\n",
    "      ArticleModel(),\n",
    "      tf.keras.layers.Dense(32)\n",
    "    ])\n",
    "\n",
    "    self.task = tfrs.tasks.Retrieval(\n",
    "        metrics=tfrs.metrics.FactorizedTopK(\n",
    "            candidates=articles.batch(128).map(self.candidate_model),\n",
    "        ),\n",
    "    )\n",
    "\n",
    "  def compute_loss(self, features, training=False):\n",
    "    query_embedding = self.query_model({\n",
    "        \"customer_id\": features[\"customer_id\"],\n",
    "        \"timestamp\": features[\"timestamp\"],\n",
    "    })\n",
    "    candidate_embedding = self.candidate_model({\n",
    "        \"article_id\": features[\"article_id\"],\n",
    "        \"prod_name\": features[\"prod_name\"],\n",
    "    })\n",
    "\n",
    "    return self.task(query_embedding, candidate_embedding)"
   ]
  },
  {
   "cell_type": "markdown",
   "id": "5bf05746",
   "metadata": {},
   "source": [
    "## Model Training"
   ]
  },
  {
   "cell_type": "code",
   "execution_count": 31,
   "id": "4889e135",
   "metadata": {},
   "outputs": [],
   "source": [
    "EVAL_FREQ = 5\n",
    "EPOCHS = 40\n",
    "INIT_EPOCH = 20  # set to latest epoch when resuming from checkpoint"
   ]
  },
  {
   "cell_type": "code",
   "execution_count": 22,
   "id": "a953bda7",
   "metadata": {},
   "outputs": [],
   "source": [
    "shuffled = trans.shuffle(trans_df.shape[0], seed=seed, reshuffle_each_iteration=False)\n",
    "\n",
    "train = shuffled.take(800_000)\n",
    "test = shuffled.skip(800_000).take(200_000)\n",
    "\n",
    "cached_train = train.shuffle(800_000).batch(2048)\n",
    "cached_test = test.batch(4096).cache()"
   ]
  },
  {
   "cell_type": "code",
   "execution_count": 23,
   "id": "53134afd",
   "metadata": {},
   "outputs": [
    {
     "name": "stdout",
     "output_type": "stream",
     "text": [
      "WARNING:tensorflow:`period` argument is deprecated. Please use `save_freq` to specify the frequency in number of batches seen.\n"
     ]
    }
   ],
   "source": [
    "checkpoint_path = \"checkpoints/vanilla_1_random/cp-{epoch:04d}.ckpt\"\n",
    "checkpoint_dir = os.path.dirname(checkpoint_path)\n",
    "\n",
    "# Create a callback that saves the model's weights\n",
    "cp_callback = tf.keras.callbacks.ModelCheckpoint(\n",
    "    filepath=checkpoint_path,\n",
    "    save_weights_only=True,\n",
    "    verbose=1,\n",
    "    period=EVAL_FREQ)"
   ]
  },
  {
   "cell_type": "code",
   "execution_count": 32,
   "id": "c2ea8cfa",
   "metadata": {},
   "outputs": [
    {
     "name": "stdout",
     "output_type": "stream",
     "text": [
      "WARNING:tensorflow:Layers in a Sequential model should only have a single input tensor. Received: inputs={'article_id': <tf.Tensor 'args_0:0' shape=(None,) dtype=string>, 'prod_name': <tf.Tensor 'args_1:0' shape=(None,) dtype=string>}. Consider rewriting this model with the Functional API.\n",
      "Epoch 21/40\n",
      "WARNING:tensorflow:Layers in a Sequential model should only have a single input tensor. Received: inputs={'customer_id': <tf.Tensor 'IteratorGetNext:1' shape=(None,) dtype=string>, 'timestamp': <tf.Tensor 'IteratorGetNext:3' shape=(None,) dtype=float64>}. Consider rewriting this model with the Functional API.\n",
      "<bound method Kernel.raw_input of <ipykernel.ipkernel.IPythonKernel object at 0x0000020B819919D0>>\n",
      "WARNING:tensorflow:Layers in a Sequential model should only have a single input tensor. Received: inputs={'article_id': <tf.Tensor 'IteratorGetNext:0' shape=(None,) dtype=string>, 'prod_name': <tf.Tensor 'IteratorGetNext:2' shape=(None,) dtype=string>}. Consider rewriting this model with the Functional API.\n",
      "WARNING:tensorflow:Layers in a Sequential model should only have a single input tensor. Received: inputs={'customer_id': <tf.Tensor 'IteratorGetNext:1' shape=(None,) dtype=string>, 'timestamp': <tf.Tensor 'IteratorGetNext:3' shape=(None,) dtype=float64>}. Consider rewriting this model with the Functional API.\n",
      "<bound method Kernel.raw_input of <ipykernel.ipkernel.IPythonKernel object at 0x0000020B819919D0>>\n",
      "WARNING:tensorflow:Layers in a Sequential model should only have a single input tensor. Received: inputs={'article_id': <tf.Tensor 'IteratorGetNext:0' shape=(None,) dtype=string>, 'prod_name': <tf.Tensor 'IteratorGetNext:2' shape=(None,) dtype=string>}. Consider rewriting this model with the Functional API.\n",
      "391/391 [==============================] - 1638s 4s/step - factorized_top_k/top_1_categorical_accuracy: 0.3674 - factorized_top_k/top_5_categorical_accuracy: 0.7402 - factorized_top_k/top_10_categorical_accuracy: 0.8302 - factorized_top_k/top_50_categorical_accuracy: 0.9359 - factorized_top_k/top_100_categorical_accuracy: 0.9577 - loss: 1518.2631 - regularization_loss: 0.0000e+00 - total_loss: 1518.2631\n",
      "Epoch 22/40\n",
      "391/391 [==============================] - 1702s 4s/step - factorized_top_k/top_1_categorical_accuracy: 0.3676 - factorized_top_k/top_5_categorical_accuracy: 0.7449 - factorized_top_k/top_10_categorical_accuracy: 0.8355 - factorized_top_k/top_50_categorical_accuracy: 0.9397 - factorized_top_k/top_100_categorical_accuracy: 0.9599 - loss: 1483.1117 - regularization_loss: 0.0000e+00 - total_loss: 1483.1117\n",
      "Epoch 23/40\n",
      "391/391 [==============================] - 1779s 5s/step - factorized_top_k/top_1_categorical_accuracy: 0.3678 - factorized_top_k/top_5_categorical_accuracy: 0.7489 - factorized_top_k/top_10_categorical_accuracy: 0.8400 - factorized_top_k/top_50_categorical_accuracy: 0.9427 - factorized_top_k/top_100_categorical_accuracy: 0.9621 - loss: 1448.0662 - regularization_loss: 0.0000e+00 - total_loss: 1448.0662\n",
      "Epoch 24/40\n",
      "391/391 [==============================] - 1877s 5s/step - factorized_top_k/top_1_categorical_accuracy: 0.3679 - factorized_top_k/top_5_categorical_accuracy: 0.7530 - factorized_top_k/top_10_categorical_accuracy: 0.8438 - factorized_top_k/top_50_categorical_accuracy: 0.9456 - factorized_top_k/top_100_categorical_accuracy: 0.9643 - loss: 1415.2692 - regularization_loss: 0.0000e+00 - total_loss: 1415.2692\n",
      "Epoch 25/40\n",
      "391/391 [==============================] - ETA: 0s - factorized_top_k/top_1_categorical_accuracy: 0.3681 - factorized_top_k/top_5_categorical_accuracy: 0.7571 - factorized_top_k/top_10_categorical_accuracy: 0.8483 - factorized_top_k/top_50_categorical_accuracy: 0.9484 - factorized_top_k/top_100_categorical_accuracy: 0.9661 - loss: 1385.7959 - regularization_loss: 0.0000e+00 - total_loss: 1385.7959WARNING:tensorflow:Layers in a Sequential model should only have a single input tensor. Received: inputs={'customer_id': <tf.Tensor 'IteratorGetNext:1' shape=(None,) dtype=string>, 'timestamp': <tf.Tensor 'IteratorGetNext:3' shape=(None,) dtype=float64>}. Consider rewriting this model with the Functional API.\n",
      "<bound method Kernel.raw_input of <ipykernel.ipkernel.IPythonKernel object at 0x0000020B819919D0>>\n",
      "WARNING:tensorflow:Layers in a Sequential model should only have a single input tensor. Received: inputs={'article_id': <tf.Tensor 'IteratorGetNext:0' shape=(None,) dtype=string>, 'prod_name': <tf.Tensor 'IteratorGetNext:2' shape=(None,) dtype=string>}. Consider rewriting this model with the Functional API.\n",
      "\n",
      "Epoch 25: saving model to checkpoints/vanilla_1_random\\cp-0025.ckpt\n",
      "391/391 [==============================] - 2195s 6s/step - factorized_top_k/top_1_categorical_accuracy: 0.3681 - factorized_top_k/top_5_categorical_accuracy: 0.7571 - factorized_top_k/top_10_categorical_accuracy: 0.8483 - factorized_top_k/top_50_categorical_accuracy: 0.9484 - factorized_top_k/top_100_categorical_accuracy: 0.9661 - loss: 1384.4013 - regularization_loss: 0.0000e+00 - total_loss: 1384.4013 - val_factorized_top_k/top_1_categorical_accuracy: 0.0021 - val_factorized_top_k/top_5_categorical_accuracy: 0.0082 - val_factorized_top_k/top_10_categorical_accuracy: 0.0096 - val_factorized_top_k/top_50_categorical_accuracy: 0.0143 - val_factorized_top_k/top_100_categorical_accuracy: 0.0179 - val_loss: 60509.9688 - val_regularization_loss: 0.0000e+00 - val_total_loss: 60509.9688\n",
      "Epoch 26/40\n",
      "391/391 [==============================] - 2030s 5s/step - factorized_top_k/top_1_categorical_accuracy: 0.3679 - factorized_top_k/top_5_categorical_accuracy: 0.7609 - factorized_top_k/top_10_categorical_accuracy: 0.8523 - factorized_top_k/top_50_categorical_accuracy: 0.9510 - factorized_top_k/top_100_categorical_accuracy: 0.9678 - loss: 1360.1761 - regularization_loss: 0.0000e+00 - total_loss: 1360.1761\n",
      "Epoch 27/40\n",
      "391/391 [==============================] - 1929s 5s/step - factorized_top_k/top_1_categorical_accuracy: 0.3677 - factorized_top_k/top_5_categorical_accuracy: 0.7650 - factorized_top_k/top_10_categorical_accuracy: 0.8565 - factorized_top_k/top_50_categorical_accuracy: 0.9530 - factorized_top_k/top_100_categorical_accuracy: 0.9692 - loss: 1331.8782 - regularization_loss: 0.0000e+00 - total_loss: 1331.8782\n",
      "Epoch 28/40\n",
      "391/391 [==============================] - 1697s 4s/step - factorized_top_k/top_1_categorical_accuracy: 0.3678 - factorized_top_k/top_5_categorical_accuracy: 0.7675 - factorized_top_k/top_10_categorical_accuracy: 0.8597 - factorized_top_k/top_50_categorical_accuracy: 0.9552 - factorized_top_k/top_100_categorical_accuracy: 0.9708 - loss: 1307.7173 - regularization_loss: 0.0000e+00 - total_loss: 1307.7173\n",
      "Epoch 29/40\n",
      "391/391 [==============================] - 1761s 4s/step - factorized_top_k/top_1_categorical_accuracy: 0.3677 - factorized_top_k/top_5_categorical_accuracy: 0.7718 - factorized_top_k/top_10_categorical_accuracy: 0.8632 - factorized_top_k/top_50_categorical_accuracy: 0.9570 - factorized_top_k/top_100_categorical_accuracy: 0.9720 - loss: 1285.4062 - regularization_loss: 0.0000e+00 - total_loss: 1285.4062\n",
      "Epoch 30/40\n",
      "391/391 [==============================] - ETA: 0s - factorized_top_k/top_1_categorical_accuracy: 0.3669 - factorized_top_k/top_5_categorical_accuracy: 0.7751 - factorized_top_k/top_10_categorical_accuracy: 0.8670 - factorized_top_k/top_50_categorical_accuracy: 0.9590 - factorized_top_k/top_100_categorical_accuracy: 0.9733 - loss: 1261.0595 - regularization_loss: 0.0000e+00 - total_loss: 1261.0595\n",
      "Epoch 30: saving model to checkpoints/vanilla_1_random\\cp-0030.ckpt\n",
      "391/391 [==============================] - 2085s 5s/step - factorized_top_k/top_1_categorical_accuracy: 0.3669 - factorized_top_k/top_5_categorical_accuracy: 0.7751 - factorized_top_k/top_10_categorical_accuracy: 0.8670 - factorized_top_k/top_50_categorical_accuracy: 0.9590 - factorized_top_k/top_100_categorical_accuracy: 0.9733 - loss: 1259.6893 - regularization_loss: 0.0000e+00 - total_loss: 1259.6893 - val_factorized_top_k/top_1_categorical_accuracy: 0.0022 - val_factorized_top_k/top_5_categorical_accuracy: 0.0085 - val_factorized_top_k/top_10_categorical_accuracy: 0.0101 - val_factorized_top_k/top_50_categorical_accuracy: 0.0147 - val_factorized_top_k/top_100_categorical_accuracy: 0.0185 - val_loss: 63266.5664 - val_regularization_loss: 0.0000e+00 - val_total_loss: 63266.5664\n"
     ]
    },
    {
     "name": "stdout",
     "output_type": "stream",
     "text": [
      "Epoch 31/40\n",
      "391/391 [==============================] - 2560s 7s/step - factorized_top_k/top_1_categorical_accuracy: 0.3669 - factorized_top_k/top_5_categorical_accuracy: 0.7786 - factorized_top_k/top_10_categorical_accuracy: 0.8702 - factorized_top_k/top_50_categorical_accuracy: 0.9607 - factorized_top_k/top_100_categorical_accuracy: 0.9746 - loss: 1240.9666 - regularization_loss: 0.0000e+00 - total_loss: 1240.9666\n",
      "Epoch 32/40\n",
      "391/391 [==============================] - 1970s 5s/step - factorized_top_k/top_1_categorical_accuracy: 0.3680 - factorized_top_k/top_5_categorical_accuracy: 0.7812 - factorized_top_k/top_10_categorical_accuracy: 0.8732 - factorized_top_k/top_50_categorical_accuracy: 0.9622 - factorized_top_k/top_100_categorical_accuracy: 0.9756 - loss: 1221.9384 - regularization_loss: 0.0000e+00 - total_loss: 1221.9384\n",
      "Epoch 33/40\n",
      "391/391 [==============================] - 2486s 6s/step - factorized_top_k/top_1_categorical_accuracy: 0.3673 - factorized_top_k/top_5_categorical_accuracy: 0.7843 - factorized_top_k/top_10_categorical_accuracy: 0.8756 - factorized_top_k/top_50_categorical_accuracy: 0.9638 - factorized_top_k/top_100_categorical_accuracy: 0.9764 - loss: 1201.3990 - regularization_loss: 0.0000e+00 - total_loss: 1201.3990\n",
      "Epoch 34/40\n",
      "391/391 [==============================] - 2217s 6s/step - factorized_top_k/top_1_categorical_accuracy: 0.3669 - factorized_top_k/top_5_categorical_accuracy: 0.7869 - factorized_top_k/top_10_categorical_accuracy: 0.8789 - factorized_top_k/top_50_categorical_accuracy: 0.9651 - factorized_top_k/top_100_categorical_accuracy: 0.9774 - loss: 1185.0032 - regularization_loss: 0.0000e+00 - total_loss: 1185.0032\n",
      "Epoch 35/40\n",
      "391/391 [==============================] - ETA: 0s - factorized_top_k/top_1_categorical_accuracy: 0.3668 - factorized_top_k/top_5_categorical_accuracy: 0.7894 - factorized_top_k/top_10_categorical_accuracy: 0.8813 - factorized_top_k/top_50_categorical_accuracy: 0.9665 - factorized_top_k/top_100_categorical_accuracy: 0.9783 - loss: 1169.1137 - regularization_loss: 0.0000e+00 - total_loss: 1169.1137\n",
      "Epoch 35: saving model to checkpoints/vanilla_1_random\\cp-0035.ckpt\n",
      "391/391 [==============================] - 2380s 6s/step - factorized_top_k/top_1_categorical_accuracy: 0.3668 - factorized_top_k/top_5_categorical_accuracy: 0.7894 - factorized_top_k/top_10_categorical_accuracy: 0.8813 - factorized_top_k/top_50_categorical_accuracy: 0.9665 - factorized_top_k/top_100_categorical_accuracy: 0.9783 - loss: 1167.6622 - regularization_loss: 0.0000e+00 - total_loss: 1167.6622 - val_factorized_top_k/top_1_categorical_accuracy: 0.0020 - val_factorized_top_k/top_5_categorical_accuracy: 0.0085 - val_factorized_top_k/top_10_categorical_accuracy: 0.0101 - val_factorized_top_k/top_50_categorical_accuracy: 0.0150 - val_factorized_top_k/top_100_categorical_accuracy: 0.0190 - val_loss: 65540.9766 - val_regularization_loss: 0.0000e+00 - val_total_loss: 65540.9766\n",
      "Epoch 36/40\n",
      "391/391 [==============================] - 2282s 6s/step - factorized_top_k/top_1_categorical_accuracy: 0.3675 - factorized_top_k/top_5_categorical_accuracy: 0.7915 - factorized_top_k/top_10_categorical_accuracy: 0.8835 - factorized_top_k/top_50_categorical_accuracy: 0.9678 - factorized_top_k/top_100_categorical_accuracy: 0.9791 - loss: 1155.2745 - regularization_loss: 0.0000e+00 - total_loss: 1155.2745\n",
      "Epoch 37/40\n",
      " 11/391 [..............................] - ETA: 39:32 - factorized_top_k/top_1_categorical_accuracy: 0.3622 - factorized_top_k/top_5_categorical_accuracy: 0.8309 - factorized_top_k/top_10_categorical_accuracy: 0.9149 - factorized_top_k/top_50_categorical_accuracy: 0.9779 - factorized_top_k/top_100_categorical_accuracy: 0.9854 - loss: 946.9015 - regularization_loss: 0.0000e+00 - total_loss: 946.9015"
     ]
    },
    {
     "ename": "KeyboardInterrupt",
     "evalue": "",
     "output_type": "error",
     "traceback": [
      "\u001b[1;31m---------------------------------------------------------------------------\u001b[0m",
      "\u001b[1;31mKeyboardInterrupt\u001b[0m                         Traceback (most recent call last)",
      "Input \u001b[1;32mIn [32]\u001b[0m, in \u001b[0;36m<cell line: 10>\u001b[1;34m()\u001b[0m\n\u001b[0;32m      7\u001b[0m     latest \u001b[38;5;241m=\u001b[39m tf\u001b[38;5;241m.\u001b[39mtrain\u001b[38;5;241m.\u001b[39mlatest_checkpoint(checkpoint_dir)\n\u001b[0;32m      8\u001b[0m     model\u001b[38;5;241m.\u001b[39mload_weights(latest)\n\u001b[1;32m---> 10\u001b[0m wo_timestamp_hist \u001b[38;5;241m=\u001b[39m \u001b[43mmodel\u001b[49m\u001b[38;5;241;43m.\u001b[39;49m\u001b[43mfit\u001b[49m\u001b[43m(\u001b[49m\n\u001b[0;32m     11\u001b[0m \u001b[43m    \u001b[49m\u001b[43mcached_train\u001b[49m\u001b[43m,\u001b[49m\n\u001b[0;32m     12\u001b[0m \u001b[43m    \u001b[49m\u001b[43mvalidation_data\u001b[49m\u001b[38;5;241;43m=\u001b[39;49m\u001b[43mcached_test\u001b[49m\u001b[43m,\u001b[49m\n\u001b[0;32m     13\u001b[0m \u001b[43m    \u001b[49m\u001b[43mvalidation_freq\u001b[49m\u001b[38;5;241;43m=\u001b[39;49m\u001b[43mEVAL_FREQ\u001b[49m\u001b[43m,\u001b[49m\n\u001b[0;32m     14\u001b[0m \u001b[43m    \u001b[49m\u001b[43mepochs\u001b[49m\u001b[38;5;241;43m=\u001b[39;49m\u001b[43mEPOCHS\u001b[49m\u001b[43m,\u001b[49m\n\u001b[0;32m     15\u001b[0m \u001b[43m    \u001b[49m\u001b[43minitial_epoch\u001b[49m\u001b[38;5;241;43m=\u001b[39;49m\u001b[43mINIT_EPOCH\u001b[49m\u001b[43m,\u001b[49m\n\u001b[0;32m     16\u001b[0m \u001b[43m    \u001b[49m\u001b[43mcallbacks\u001b[49m\u001b[38;5;241;43m=\u001b[39;49m\u001b[43m[\u001b[49m\u001b[43mcp_callback\u001b[49m\u001b[43m]\u001b[49m\u001b[43m)\u001b[49m\n",
      "File \u001b[1;32m~\\anaconda3\\envs\\ikar_hnm\\lib\\site-packages\\keras\\utils\\traceback_utils.py:64\u001b[0m, in \u001b[0;36mfilter_traceback.<locals>.error_handler\u001b[1;34m(*args, **kwargs)\u001b[0m\n\u001b[0;32m     62\u001b[0m filtered_tb \u001b[38;5;241m=\u001b[39m \u001b[38;5;28;01mNone\u001b[39;00m\n\u001b[0;32m     63\u001b[0m \u001b[38;5;28;01mtry\u001b[39;00m:\n\u001b[1;32m---> 64\u001b[0m   \u001b[38;5;28;01mreturn\u001b[39;00m \u001b[43mfn\u001b[49m\u001b[43m(\u001b[49m\u001b[38;5;241;43m*\u001b[39;49m\u001b[43margs\u001b[49m\u001b[43m,\u001b[49m\u001b[43m \u001b[49m\u001b[38;5;241;43m*\u001b[39;49m\u001b[38;5;241;43m*\u001b[39;49m\u001b[43mkwargs\u001b[49m\u001b[43m)\u001b[49m\n\u001b[0;32m     65\u001b[0m \u001b[38;5;28;01mexcept\u001b[39;00m \u001b[38;5;167;01mException\u001b[39;00m \u001b[38;5;28;01mas\u001b[39;00m e:  \u001b[38;5;66;03m# pylint: disable=broad-except\u001b[39;00m\n\u001b[0;32m     66\u001b[0m   filtered_tb \u001b[38;5;241m=\u001b[39m _process_traceback_frames(e\u001b[38;5;241m.\u001b[39m__traceback__)\n",
      "File \u001b[1;32m~\\anaconda3\\envs\\ikar_hnm\\lib\\site-packages\\keras\\engine\\training.py:1384\u001b[0m, in \u001b[0;36mModel.fit\u001b[1;34m(self, x, y, batch_size, epochs, verbose, callbacks, validation_split, validation_data, shuffle, class_weight, sample_weight, initial_epoch, steps_per_epoch, validation_steps, validation_batch_size, validation_freq, max_queue_size, workers, use_multiprocessing)\u001b[0m\n\u001b[0;32m   1377\u001b[0m \u001b[38;5;28;01mwith\u001b[39;00m tf\u001b[38;5;241m.\u001b[39mprofiler\u001b[38;5;241m.\u001b[39mexperimental\u001b[38;5;241m.\u001b[39mTrace(\n\u001b[0;32m   1378\u001b[0m     \u001b[38;5;124m'\u001b[39m\u001b[38;5;124mtrain\u001b[39m\u001b[38;5;124m'\u001b[39m,\n\u001b[0;32m   1379\u001b[0m     epoch_num\u001b[38;5;241m=\u001b[39mepoch,\n\u001b[0;32m   1380\u001b[0m     step_num\u001b[38;5;241m=\u001b[39mstep,\n\u001b[0;32m   1381\u001b[0m     batch_size\u001b[38;5;241m=\u001b[39mbatch_size,\n\u001b[0;32m   1382\u001b[0m     _r\u001b[38;5;241m=\u001b[39m\u001b[38;5;241m1\u001b[39m):\n\u001b[0;32m   1383\u001b[0m   callbacks\u001b[38;5;241m.\u001b[39mon_train_batch_begin(step)\n\u001b[1;32m-> 1384\u001b[0m   tmp_logs \u001b[38;5;241m=\u001b[39m \u001b[38;5;28;43mself\u001b[39;49m\u001b[38;5;241;43m.\u001b[39;49m\u001b[43mtrain_function\u001b[49m\u001b[43m(\u001b[49m\u001b[43miterator\u001b[49m\u001b[43m)\u001b[49m\n\u001b[0;32m   1385\u001b[0m   \u001b[38;5;28;01mif\u001b[39;00m data_handler\u001b[38;5;241m.\u001b[39mshould_sync:\n\u001b[0;32m   1386\u001b[0m     context\u001b[38;5;241m.\u001b[39masync_wait()\n",
      "File \u001b[1;32m~\\anaconda3\\envs\\ikar_hnm\\lib\\site-packages\\tensorflow\\python\\util\\traceback_utils.py:150\u001b[0m, in \u001b[0;36mfilter_traceback.<locals>.error_handler\u001b[1;34m(*args, **kwargs)\u001b[0m\n\u001b[0;32m    148\u001b[0m filtered_tb \u001b[38;5;241m=\u001b[39m \u001b[38;5;28;01mNone\u001b[39;00m\n\u001b[0;32m    149\u001b[0m \u001b[38;5;28;01mtry\u001b[39;00m:\n\u001b[1;32m--> 150\u001b[0m   \u001b[38;5;28;01mreturn\u001b[39;00m \u001b[43mfn\u001b[49m\u001b[43m(\u001b[49m\u001b[38;5;241;43m*\u001b[39;49m\u001b[43margs\u001b[49m\u001b[43m,\u001b[49m\u001b[43m \u001b[49m\u001b[38;5;241;43m*\u001b[39;49m\u001b[38;5;241;43m*\u001b[39;49m\u001b[43mkwargs\u001b[49m\u001b[43m)\u001b[49m\n\u001b[0;32m    151\u001b[0m \u001b[38;5;28;01mexcept\u001b[39;00m \u001b[38;5;167;01mException\u001b[39;00m \u001b[38;5;28;01mas\u001b[39;00m e:\n\u001b[0;32m    152\u001b[0m   filtered_tb \u001b[38;5;241m=\u001b[39m _process_traceback_frames(e\u001b[38;5;241m.\u001b[39m__traceback__)\n",
      "File \u001b[1;32m~\\anaconda3\\envs\\ikar_hnm\\lib\\site-packages\\tensorflow\\python\\eager\\def_function.py:915\u001b[0m, in \u001b[0;36mFunction.__call__\u001b[1;34m(self, *args, **kwds)\u001b[0m\n\u001b[0;32m    912\u001b[0m compiler \u001b[38;5;241m=\u001b[39m \u001b[38;5;124m\"\u001b[39m\u001b[38;5;124mxla\u001b[39m\u001b[38;5;124m\"\u001b[39m \u001b[38;5;28;01mif\u001b[39;00m \u001b[38;5;28mself\u001b[39m\u001b[38;5;241m.\u001b[39m_jit_compile \u001b[38;5;28;01melse\u001b[39;00m \u001b[38;5;124m\"\u001b[39m\u001b[38;5;124mnonXla\u001b[39m\u001b[38;5;124m\"\u001b[39m\n\u001b[0;32m    914\u001b[0m \u001b[38;5;28;01mwith\u001b[39;00m OptionalXlaContext(\u001b[38;5;28mself\u001b[39m\u001b[38;5;241m.\u001b[39m_jit_compile):\n\u001b[1;32m--> 915\u001b[0m   result \u001b[38;5;241m=\u001b[39m \u001b[38;5;28;43mself\u001b[39;49m\u001b[38;5;241;43m.\u001b[39;49m\u001b[43m_call\u001b[49m\u001b[43m(\u001b[49m\u001b[38;5;241;43m*\u001b[39;49m\u001b[43margs\u001b[49m\u001b[43m,\u001b[49m\u001b[43m \u001b[49m\u001b[38;5;241;43m*\u001b[39;49m\u001b[38;5;241;43m*\u001b[39;49m\u001b[43mkwds\u001b[49m\u001b[43m)\u001b[49m\n\u001b[0;32m    917\u001b[0m new_tracing_count \u001b[38;5;241m=\u001b[39m \u001b[38;5;28mself\u001b[39m\u001b[38;5;241m.\u001b[39mexperimental_get_tracing_count()\n\u001b[0;32m    918\u001b[0m without_tracing \u001b[38;5;241m=\u001b[39m (tracing_count \u001b[38;5;241m==\u001b[39m new_tracing_count)\n",
      "File \u001b[1;32m~\\anaconda3\\envs\\ikar_hnm\\lib\\site-packages\\tensorflow\\python\\eager\\def_function.py:947\u001b[0m, in \u001b[0;36mFunction._call\u001b[1;34m(self, *args, **kwds)\u001b[0m\n\u001b[0;32m    944\u001b[0m   \u001b[38;5;28mself\u001b[39m\u001b[38;5;241m.\u001b[39m_lock\u001b[38;5;241m.\u001b[39mrelease()\n\u001b[0;32m    945\u001b[0m   \u001b[38;5;66;03m# In this case we have created variables on the first call, so we run the\u001b[39;00m\n\u001b[0;32m    946\u001b[0m   \u001b[38;5;66;03m# defunned version which is guaranteed to never create variables.\u001b[39;00m\n\u001b[1;32m--> 947\u001b[0m   \u001b[38;5;28;01mreturn\u001b[39;00m \u001b[38;5;28;43mself\u001b[39;49m\u001b[38;5;241;43m.\u001b[39;49m\u001b[43m_stateless_fn\u001b[49m\u001b[43m(\u001b[49m\u001b[38;5;241;43m*\u001b[39;49m\u001b[43margs\u001b[49m\u001b[43m,\u001b[49m\u001b[43m \u001b[49m\u001b[38;5;241;43m*\u001b[39;49m\u001b[38;5;241;43m*\u001b[39;49m\u001b[43mkwds\u001b[49m\u001b[43m)\u001b[49m  \u001b[38;5;66;03m# pylint: disable=not-callable\u001b[39;00m\n\u001b[0;32m    948\u001b[0m \u001b[38;5;28;01melif\u001b[39;00m \u001b[38;5;28mself\u001b[39m\u001b[38;5;241m.\u001b[39m_stateful_fn \u001b[38;5;129;01mis\u001b[39;00m \u001b[38;5;129;01mnot\u001b[39;00m \u001b[38;5;28;01mNone\u001b[39;00m:\n\u001b[0;32m    949\u001b[0m   \u001b[38;5;66;03m# Release the lock early so that multiple threads can perform the call\u001b[39;00m\n\u001b[0;32m    950\u001b[0m   \u001b[38;5;66;03m# in parallel.\u001b[39;00m\n\u001b[0;32m    951\u001b[0m   \u001b[38;5;28mself\u001b[39m\u001b[38;5;241m.\u001b[39m_lock\u001b[38;5;241m.\u001b[39mrelease()\n",
      "File \u001b[1;32m~\\anaconda3\\envs\\ikar_hnm\\lib\\site-packages\\tensorflow\\python\\eager\\function.py:2956\u001b[0m, in \u001b[0;36mFunction.__call__\u001b[1;34m(self, *args, **kwargs)\u001b[0m\n\u001b[0;32m   2953\u001b[0m \u001b[38;5;28;01mwith\u001b[39;00m \u001b[38;5;28mself\u001b[39m\u001b[38;5;241m.\u001b[39m_lock:\n\u001b[0;32m   2954\u001b[0m   (graph_function,\n\u001b[0;32m   2955\u001b[0m    filtered_flat_args) \u001b[38;5;241m=\u001b[39m \u001b[38;5;28mself\u001b[39m\u001b[38;5;241m.\u001b[39m_maybe_define_function(args, kwargs)\n\u001b[1;32m-> 2956\u001b[0m \u001b[38;5;28;01mreturn\u001b[39;00m \u001b[43mgraph_function\u001b[49m\u001b[38;5;241;43m.\u001b[39;49m\u001b[43m_call_flat\u001b[49m\u001b[43m(\u001b[49m\n\u001b[0;32m   2957\u001b[0m \u001b[43m    \u001b[49m\u001b[43mfiltered_flat_args\u001b[49m\u001b[43m,\u001b[49m\u001b[43m \u001b[49m\u001b[43mcaptured_inputs\u001b[49m\u001b[38;5;241;43m=\u001b[39;49m\u001b[43mgraph_function\u001b[49m\u001b[38;5;241;43m.\u001b[39;49m\u001b[43mcaptured_inputs\u001b[49m\u001b[43m)\u001b[49m\n",
      "File \u001b[1;32m~\\anaconda3\\envs\\ikar_hnm\\lib\\site-packages\\tensorflow\\python\\eager\\function.py:1853\u001b[0m, in \u001b[0;36mConcreteFunction._call_flat\u001b[1;34m(self, args, captured_inputs, cancellation_manager)\u001b[0m\n\u001b[0;32m   1849\u001b[0m possible_gradient_type \u001b[38;5;241m=\u001b[39m gradients_util\u001b[38;5;241m.\u001b[39mPossibleTapeGradientTypes(args)\n\u001b[0;32m   1850\u001b[0m \u001b[38;5;28;01mif\u001b[39;00m (possible_gradient_type \u001b[38;5;241m==\u001b[39m gradients_util\u001b[38;5;241m.\u001b[39mPOSSIBLE_GRADIENT_TYPES_NONE\n\u001b[0;32m   1851\u001b[0m     \u001b[38;5;129;01mand\u001b[39;00m executing_eagerly):\n\u001b[0;32m   1852\u001b[0m   \u001b[38;5;66;03m# No tape is watching; skip to running the function.\u001b[39;00m\n\u001b[1;32m-> 1853\u001b[0m   \u001b[38;5;28;01mreturn\u001b[39;00m \u001b[38;5;28mself\u001b[39m\u001b[38;5;241m.\u001b[39m_build_call_outputs(\u001b[38;5;28;43mself\u001b[39;49m\u001b[38;5;241;43m.\u001b[39;49m\u001b[43m_inference_function\u001b[49m\u001b[38;5;241;43m.\u001b[39;49m\u001b[43mcall\u001b[49m\u001b[43m(\u001b[49m\n\u001b[0;32m   1854\u001b[0m \u001b[43m      \u001b[49m\u001b[43mctx\u001b[49m\u001b[43m,\u001b[49m\u001b[43m \u001b[49m\u001b[43margs\u001b[49m\u001b[43m,\u001b[49m\u001b[43m \u001b[49m\u001b[43mcancellation_manager\u001b[49m\u001b[38;5;241;43m=\u001b[39;49m\u001b[43mcancellation_manager\u001b[49m\u001b[43m)\u001b[49m)\n\u001b[0;32m   1855\u001b[0m forward_backward \u001b[38;5;241m=\u001b[39m \u001b[38;5;28mself\u001b[39m\u001b[38;5;241m.\u001b[39m_select_forward_and_backward_functions(\n\u001b[0;32m   1856\u001b[0m     args,\n\u001b[0;32m   1857\u001b[0m     possible_gradient_type,\n\u001b[0;32m   1858\u001b[0m     executing_eagerly)\n\u001b[0;32m   1859\u001b[0m forward_function, args_with_tangents \u001b[38;5;241m=\u001b[39m forward_backward\u001b[38;5;241m.\u001b[39mforward()\n",
      "File \u001b[1;32m~\\anaconda3\\envs\\ikar_hnm\\lib\\site-packages\\tensorflow\\python\\eager\\function.py:499\u001b[0m, in \u001b[0;36m_EagerDefinedFunction.call\u001b[1;34m(self, ctx, args, cancellation_manager)\u001b[0m\n\u001b[0;32m    497\u001b[0m \u001b[38;5;28;01mwith\u001b[39;00m _InterpolateFunctionError(\u001b[38;5;28mself\u001b[39m):\n\u001b[0;32m    498\u001b[0m   \u001b[38;5;28;01mif\u001b[39;00m cancellation_manager \u001b[38;5;129;01mis\u001b[39;00m \u001b[38;5;28;01mNone\u001b[39;00m:\n\u001b[1;32m--> 499\u001b[0m     outputs \u001b[38;5;241m=\u001b[39m \u001b[43mexecute\u001b[49m\u001b[38;5;241;43m.\u001b[39;49m\u001b[43mexecute\u001b[49m\u001b[43m(\u001b[49m\n\u001b[0;32m    500\u001b[0m \u001b[43m        \u001b[49m\u001b[38;5;28;43mstr\u001b[39;49m\u001b[43m(\u001b[49m\u001b[38;5;28;43mself\u001b[39;49m\u001b[38;5;241;43m.\u001b[39;49m\u001b[43msignature\u001b[49m\u001b[38;5;241;43m.\u001b[39;49m\u001b[43mname\u001b[49m\u001b[43m)\u001b[49m\u001b[43m,\u001b[49m\n\u001b[0;32m    501\u001b[0m \u001b[43m        \u001b[49m\u001b[43mnum_outputs\u001b[49m\u001b[38;5;241;43m=\u001b[39;49m\u001b[38;5;28;43mself\u001b[39;49m\u001b[38;5;241;43m.\u001b[39;49m\u001b[43m_num_outputs\u001b[49m\u001b[43m,\u001b[49m\n\u001b[0;32m    502\u001b[0m \u001b[43m        \u001b[49m\u001b[43minputs\u001b[49m\u001b[38;5;241;43m=\u001b[39;49m\u001b[43margs\u001b[49m\u001b[43m,\u001b[49m\n\u001b[0;32m    503\u001b[0m \u001b[43m        \u001b[49m\u001b[43mattrs\u001b[49m\u001b[38;5;241;43m=\u001b[39;49m\u001b[43mattrs\u001b[49m\u001b[43m,\u001b[49m\n\u001b[0;32m    504\u001b[0m \u001b[43m        \u001b[49m\u001b[43mctx\u001b[49m\u001b[38;5;241;43m=\u001b[39;49m\u001b[43mctx\u001b[49m\u001b[43m)\u001b[49m\n\u001b[0;32m    505\u001b[0m   \u001b[38;5;28;01melse\u001b[39;00m:\n\u001b[0;32m    506\u001b[0m     outputs \u001b[38;5;241m=\u001b[39m execute\u001b[38;5;241m.\u001b[39mexecute_with_cancellation(\n\u001b[0;32m    507\u001b[0m         \u001b[38;5;28mstr\u001b[39m(\u001b[38;5;28mself\u001b[39m\u001b[38;5;241m.\u001b[39msignature\u001b[38;5;241m.\u001b[39mname),\n\u001b[0;32m    508\u001b[0m         num_outputs\u001b[38;5;241m=\u001b[39m\u001b[38;5;28mself\u001b[39m\u001b[38;5;241m.\u001b[39m_num_outputs,\n\u001b[1;32m   (...)\u001b[0m\n\u001b[0;32m    511\u001b[0m         ctx\u001b[38;5;241m=\u001b[39mctx,\n\u001b[0;32m    512\u001b[0m         cancellation_manager\u001b[38;5;241m=\u001b[39mcancellation_manager)\n",
      "File \u001b[1;32m~\\anaconda3\\envs\\ikar_hnm\\lib\\site-packages\\tensorflow\\python\\eager\\execute.py:54\u001b[0m, in \u001b[0;36mquick_execute\u001b[1;34m(op_name, num_outputs, inputs, attrs, ctx, name)\u001b[0m\n\u001b[0;32m     52\u001b[0m \u001b[38;5;28;01mtry\u001b[39;00m:\n\u001b[0;32m     53\u001b[0m   ctx\u001b[38;5;241m.\u001b[39mensure_initialized()\n\u001b[1;32m---> 54\u001b[0m   tensors \u001b[38;5;241m=\u001b[39m \u001b[43mpywrap_tfe\u001b[49m\u001b[38;5;241;43m.\u001b[39;49m\u001b[43mTFE_Py_Execute\u001b[49m\u001b[43m(\u001b[49m\u001b[43mctx\u001b[49m\u001b[38;5;241;43m.\u001b[39;49m\u001b[43m_handle\u001b[49m\u001b[43m,\u001b[49m\u001b[43m \u001b[49m\u001b[43mdevice_name\u001b[49m\u001b[43m,\u001b[49m\u001b[43m \u001b[49m\u001b[43mop_name\u001b[49m\u001b[43m,\u001b[49m\n\u001b[0;32m     55\u001b[0m \u001b[43m                                      \u001b[49m\u001b[43minputs\u001b[49m\u001b[43m,\u001b[49m\u001b[43m \u001b[49m\u001b[43mattrs\u001b[49m\u001b[43m,\u001b[49m\u001b[43m \u001b[49m\u001b[43mnum_outputs\u001b[49m\u001b[43m)\u001b[49m\n\u001b[0;32m     56\u001b[0m \u001b[38;5;28;01mexcept\u001b[39;00m core\u001b[38;5;241m.\u001b[39m_NotOkStatusException \u001b[38;5;28;01mas\u001b[39;00m e:\n\u001b[0;32m     57\u001b[0m   \u001b[38;5;28;01mif\u001b[39;00m name \u001b[38;5;129;01mis\u001b[39;00m \u001b[38;5;129;01mnot\u001b[39;00m \u001b[38;5;28;01mNone\u001b[39;00m:\n",
      "\u001b[1;31mKeyboardInterrupt\u001b[0m: "
     ]
    }
   ],
   "source": [
    "# Load model\n",
    "model = HNMModel(use_timestamps=False)\n",
    "model.compile(optimizer=tf.keras.optimizers.Adagrad(0.1))\n",
    "\n",
    "if INIT_EPOCH > 0:\n",
    "    # Load trained model weights\n",
    "    latest = tf.train.latest_checkpoint(checkpoint_dir)\n",
    "    model.load_weights(latest)\n",
    "\n",
    "wo_timestamp_hist = model.fit(\n",
    "    cached_train,\n",
    "    validation_data=cached_test,\n",
    "    validation_freq=EVAL_FREQ,\n",
    "    epochs=EPOCHS,\n",
    "    initial_epoch=INIT_EPOCH,\n",
    "    callbacks=[cp_callback])"
   ]
  },
  {
   "cell_type": "code",
   "execution_count": 25,
   "id": "57884049",
   "metadata": {},
   "outputs": [
    {
     "data": {
      "text/plain": [
       "<matplotlib.legend.Legend at 0x20bc70a4670>"
      ]
     },
     "execution_count": 25,
     "metadata": {},
     "output_type": "execute_result"
    },
    {
     "data": {
      "image/png": "[encoded data removed]",
      "text/plain": [
       "<Figure size 432x288 with 1 Axes>"
      ]
     },
     "metadata": {},
     "output_type": "display_data"
    }
   ],
   "source": [
    "num_validation_runs = len(wo_timestamp_hist.history[\"val_factorized_top_k/top_10_categorical_accuracy\"])\n",
    "epochs = [(x + 1)* EVAL_FREQ for x in range(num_validation_runs)]\n",
    "\n",
    "plt.plot(epochs, wo_timestamp_hist.history[\"val_factorized_top_k/top_10_categorical_accuracy\"], label=\"w/o timesteps\")\n",
    "# plt.plot(epochs, w_timestamp_hist.history[\"val_factorized_top_k/top_10_categorical_accuracy\"], label=\"w/ timesteps\")\n",
    "plt.title(\"Accuracy vs epoch\")\n",
    "plt.xlabel(\"epoch\")\n",
    "plt.ylabel(\"Top-100 accuracy\");\n",
    "plt.legend()"
   ]
  },
  {
   "cell_type": "markdown",
   "id": "2bfacc69",
   "metadata": {},
   "source": [
    "## Get Recommendation"
   ]
  },
  {
   "cell_type": "code",
   "execution_count": 26,
   "id": "251ac8aa",
   "metadata": {},
   "outputs": [
    {
     "name": "stdout",
     "output_type": "stream",
     "text": [
      "WARNING:tensorflow:Layers in a Sequential model should only have a single input tensor. Received: inputs={'article_id': <tf.Tensor 'args_0:0' shape=(None,) dtype=string>, 'prod_name': <tf.Tensor 'args_1:0' shape=(None,) dtype=string>}. Consider rewriting this model with the Functional API.\n"
     ]
    },
    {
     "data": {
      "text/plain": [
       "<MapDataset element_spec=TensorSpec(shape=(None, 32), dtype=tf.float32, name=None)>"
      ]
     },
     "execution_count": 26,
     "metadata": {},
     "output_type": "execute_result"
    }
   ],
   "source": [
    "articles.batch(100).map(lambda x: model.candidate_model({\n",
    "    'article_id': x['article_id'],\n",
    "    'prod_name' : x['prod_name'],\n",
    "}))"
   ]
  },
  {
   "cell_type": "code",
   "execution_count": 27,
   "id": "ca6acea4",
   "metadata": {
    "scrolled": true
   },
   "outputs": [
    {
     "name": "stdout",
     "output_type": "stream",
     "text": [
      "WARNING:tensorflow:Layers in a Sequential model should only have a single input tensor. Received: inputs={'article_id': <tf.Tensor 'args_0:0' shape=(None,) dtype=string>, 'prod_name': <tf.Tensor 'args_1:0' shape=(None,) dtype=string>}. Consider rewriting this model with the Functional API.\n",
      "WARNING:tensorflow:Layers in a Sequential model should only have a single input tensor. Received: inputs={'customer_id': <tf.Tensor: shape=(1,), dtype=string, numpy=\n",
      "array([b'1afc6716e87a253152c3a89dee154569fda98f59fc2305712fea20c5ddb817e3'],\n",
      "      dtype=object)>, 'timestamp': <tf.Tensor: shape=(1,), dtype=float32, numpy=array([0.36129996], dtype=float32)>}. Consider rewriting this model with the Functional API.\n",
      "<bound method Kernel.raw_input of <ipykernel.ipkernel.IPythonKernel object at 0x0000020B819919D0>>\n",
      "Top 12 recommendations for user 40: [[b'538813002' b'637149008' b'669895004' b'661647001' b'764073004'\n",
      "  b'663662001' b'860334001' b'690627002' b'188183022' b'805525001'\n",
      "  b'685604013' b'698971003']]\n"
     ]
    }
   ],
   "source": [
    "index = tfrs.layers.factorized_top_k.BruteForce(model.query_model)\n",
    "\n",
    "identifiers = articles.batch(100).map(lambda x: x['article_id'])\n",
    "\n",
    "candidates = articles.batch(100).map(lambda x: model.candidate_model({\n",
    "        'article_id': x['article_id'],\n",
    "        'prod_name' : x['prod_name'],\n",
    "    }))\n",
    "\n",
    "index.index_from_dataset(tf.data.Dataset.zip((identifiers, candidates)))\n",
    "\n",
    "test_query = dict(trans_df[['customer_id',\n",
    "                           'timestamp',\n",
    "                        ]].iloc[0].map(lambda x: tf.expand_dims(x, axis=0)))\n",
    "\n",
    "# test_query = {'customer_id' : tf.expand_dims('ffffd9ac14e89946416d80e791d064701994755c3ab686a1eaf3458c36f52241', axis=0)}\n",
    "\n",
    "_, titles = index(test_query, k=12)\n",
    "print(f\"Top 12 recommendations for user 40: {titles}\")"
   ]
  },
  {
   "cell_type": "code",
   "execution_count": 28,
   "id": "5c5938e0",
   "metadata": {},
   "outputs": [
    {
     "data": {
      "text/plain": [
       "{'customer_id': <tf.Tensor: shape=(1,), dtype=string, numpy=\n",
       " array([b'ffffd7744cebcf3aca44ae7049d2a94b87074c3d4ffe38b2236865d949d4df6a'],\n",
       "       dtype=object)>}"
      ]
     },
     "execution_count": 28,
     "metadata": {},
     "output_type": "execute_result"
    }
   ],
   "source": [
    "{'customer_id' : tf.expand_dims('ffffd7744cebcf3aca44ae7049d2a94b87074c3d4ffe38b2236865d949d4df6a', axis=0)}"
   ]
  },
  {
   "cell_type": "code",
   "execution_count": 29,
   "id": "e53e9e96",
   "metadata": {},
   "outputs": [
    {
     "data": {
      "text/html": [
       "<div>\n",
       "<style scoped>\n",
       "    .dataframe tbody tr th:only-of-type {\n",
       "        vertical-align: middle;\n",
       "    }\n",
       "\n",
       "    .dataframe tbody tr th {\n",
       "        vertical-align: top;\n",
       "    }\n",
       "\n",
       "    .dataframe thead th {\n",
       "        text-align: right;\n",
       "    }\n",
       "</style>\n",
       "<table border=\"1\" class=\"dataframe\">\n",
       "  <thead>\n",
       "    <tr style=\"text-align: right;\">\n",
       "      <th></th>\n",
       "      <th>timestamp</th>\n",
       "      <th>customer_id</th>\n",
       "      <th>article_id</th>\n",
       "      <th>price</th>\n",
       "      <th>sales_channel_id</th>\n",
       "      <th>prod_name</th>\n",
       "    </tr>\n",
       "  </thead>\n",
       "  <tbody>\n",
       "  </tbody>\n",
       "</table>\n",
       "</div>"
      ],
      "text/plain": [
       "Empty DataFrame\n",
       "Columns: [timestamp, customer_id, article_id, price, sales_channel_id, prod_name]\n",
       "Index: []"
      ]
     },
     "execution_count": 29,
     "metadata": {},
     "output_type": "execute_result"
    }
   ],
   "source": [
    "trans_df.loc[trans_df['customer_id'] == 'ffffd9ac14e89946416d80e791d064701994755c3ab686a1eaf3458c36f52241']"
   ]
  },
  {
   "cell_type": "code",
   "execution_count": 30,
   "id": "7972e552",
   "metadata": {},
   "outputs": [
    {
     "data": {
      "text/plain": [
       "'Grimsby'"
      ]
     },
     "execution_count": 30,
     "metadata": {},
     "output_type": "execute_result"
    }
   ],
   "source": [
    "article_map[684080001]"
   ]
  }
 ],
 "metadata": {
  "kernelspec": {
   "display_name": "Python 3 (ipykernel)",
   "language": "python",
   "name": "python3"
  },
  "language_info": {
   "codemirror_mode": {
    "name": "ipython",
    "version": 3
   },
   "file_extension": ".py",
   "mimetype": "text/x-python",
   "name": "python",
   "nbconvert_exporter": "python",
   "pygments_lexer": "ipython3",
   "version": "3.8.13"
  }
 },
 "nbformat": 4,
 "nbformat_minor": 5
}
