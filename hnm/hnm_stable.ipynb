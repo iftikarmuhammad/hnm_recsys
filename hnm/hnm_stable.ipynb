{
 "cells": [
  {
   "cell_type": "code",
   "execution_count": 33,
   "id": "17acabec",
   "metadata": {
    "scrolled": true
   },
   "outputs": [],
   "source": [
    "import os\n",
    "\n",
    "import time\n",
    "import pprint\n",
    "\n",
    "%matplotlib inline\n",
    "import matplotlib.pyplot as plt\n",
    "\n",
    "import numpy as np\n",
    "import pandas as pd\n",
    "import tensorflow as tf\n",
    "\n",
    "import tensorflow_datasets as tfds\n",
    "import tensorflow_recommenders as tfrs\n",
    "\n",
    "from typing import Dict, Text\n",
    "\n",
    "plt.style.use('seaborn-whitegrid')"
   ]
  },
  {
   "cell_type": "markdown",
   "id": "24ba398a",
   "metadata": {},
   "source": [
    "## Load Dataset"
   ]
  },
  {
   "cell_type": "code",
   "execution_count": 2,
   "id": "e426694e",
   "metadata": {},
   "outputs": [],
   "source": [
    "article_df = pd.read_csv('dataset/articles.csv')\n",
    "customer_df = pd.read_csv('dataset/customers.csv')\n",
    "trans_df = pd.read_csv('dataset/transactions_train.csv')"
   ]
  },
  {
   "cell_type": "code",
   "execution_count": 3,
   "id": "af06ceb5",
   "metadata": {
    "scrolled": false
   },
   "outputs": [],
   "source": [
    "article_df.fillna(value='', inplace=True)"
   ]
  },
  {
   "cell_type": "code",
   "execution_count": 6,
   "id": "6265241b",
   "metadata": {
    "scrolled": true
   },
   "outputs": [],
   "source": [
    "trans_df['t_dat'] = pd.to_datetime(trans_df['t_dat']).values.astype(int) / 10**9"
   ]
  },
  {
   "cell_type": "code",
   "execution_count": 7,
   "id": "69409ceb",
   "metadata": {},
   "outputs": [
    {
     "data": {
      "text/plain": [
       "'000058a12d5b43e67d225668fa1f8d618c13dc232df0cad8ffe7ad4a1091e318'"
      ]
     },
     "execution_count": 7,
     "metadata": {},
     "output_type": "execute_result"
    }
   ],
   "source": [
    "trans_df.customer_id.values[0]"
   ]
  },
  {
   "cell_type": "code",
   "execution_count": 8,
   "id": "07d7f056",
   "metadata": {},
   "outputs": [],
   "source": [
    "trans_df.rename(columns={\"t_dat\":\"timestamp\"}, inplace=True)"
   ]
  },
  {
   "cell_type": "code",
   "execution_count": 9,
   "id": "b99c09b4",
   "metadata": {},
   "outputs": [],
   "source": [
    "article_map = dict(article_df[['article_id', 'prod_name']].values)"
   ]
  },
  {
   "cell_type": "code",
   "execution_count": 10,
   "id": "7d852260",
   "metadata": {},
   "outputs": [],
   "source": [
    "trans_df['prod_name'] = trans_df.article_id.map(article_map)"
   ]
  },
  {
   "cell_type": "code",
   "execution_count": 11,
   "id": "aebe726a",
   "metadata": {},
   "outputs": [],
   "source": [
    "articles = tf.data.Dataset.from_tensor_slices(dict(article_df)).map(lambda x: tf.strings.as_string(x['article_id']))\n",
    "\n",
    "trans = tf.data.Dataset.from_tensor_slices(dict(trans_df[:1000000])).map(lambda x: {\n",
    "    'customer_id' : x['customer_id'],\n",
    "    'article_id' : tf.strings.as_string(x['article_id']),\n",
    "    'prod_name' : x['prod_name'],\n",
    "    'timestamp' : x['timestamp'],\n",
    "})"
   ]
  },
  {
   "cell_type": "markdown",
   "id": "7274d5f0",
   "metadata": {},
   "source": [
    "### Preprocessing"
   ]
  },
  {
   "cell_type": "code",
   "execution_count": 12,
   "id": "f3f36009",
   "metadata": {},
   "outputs": [],
   "source": [
    "timestamps = np.concatenate(list(trans.map(lambda x: x[\"timestamp\"]).batch(100)))\n",
    "\n",
    "max_timestamp = timestamps.max()\n",
    "min_timestamp = timestamps.min()\n",
    "\n",
    "timestamp_buckets = np.linspace(\n",
    "    min_timestamp, max_timestamp, num=1000,\n",
    ")"
   ]
  },
  {
   "cell_type": "code",
   "execution_count": 13,
   "id": "cb2570ed",
   "metadata": {},
   "outputs": [],
   "source": [
    "# ### USE THIS TO USE STRINGLOOKUP\n",
    "# customer_vocab = tf.keras.layers.StringLookup(mask_token=None)\n",
    "# customer_vocab.adapt(trans.map(lambda x: x[\"customer_id\"]))\n",
    "\n",
    "# article_vocab = tf.keras.layers.StringLookup(mask_token=None)\n",
    "# article_vocab.adapt(articles)"
   ]
  },
  {
   "cell_type": "code",
   "execution_count": 14,
   "id": "10e5aa71",
   "metadata": {},
   "outputs": [],
   "source": [
    "### USE THIS TO AVOID STRINGLOOKUP\n",
    "article_ids = articles.batch(1_000)\n",
    "unique_article_ids = np.unique(np.concatenate(list(article_ids)))\n",
    "\n",
    "customer_ids = trans.map(lambda x: x['customer_id']).batch(1_000)\n",
    "unique_customer_ids = np.unique(np.concatenate(list(customer_ids)))"
   ]
  },
  {
   "cell_type": "code",
   "execution_count": 15,
   "id": "3d21c007",
   "metadata": {},
   "outputs": [
    {
     "data": {
      "text/plain": [
       "106"
      ]
     },
     "execution_count": 15,
     "metadata": {},
     "output_type": "execute_result"
    }
   ],
   "source": [
    "d = articles.batch(1_000)\n",
    "len(list(d.as_numpy_iterator()))"
   ]
  },
  {
   "cell_type": "markdown",
   "id": "d37f4609",
   "metadata": {},
   "source": [
    "## Two-tower Model"
   ]
  },
  {
   "cell_type": "code",
   "execution_count": 16,
   "id": "e16f4c34",
   "metadata": {},
   "outputs": [],
   "source": [
    "# ### USE THIS TO USE STRINGLOOKUP\n",
    "# embedding_dim = 32\n",
    "\n",
    "# customer_model = tf.keras.Sequential([\n",
    "#     customer_vocab,\n",
    "#     tf.keras.layers.Embedding(customer_vocab.vocabulary_size(), embedding_dim)\n",
    "# ])\n",
    "# article_model = tf.keras.Sequential([\n",
    "#     article_vocab,\n",
    "#     tf.keras.layers.Embedding(article_vocab.vocabulary_size(), embedding_dim)\n",
    "# ])\n",
    "\n",
    "# task = tfrs.tasks.Retrieval(metrics=tfrs.metrics.FactorizedTopK(\n",
    "#     articles.batch(128).map(article_model)\n",
    "#   )\n",
    "# )"
   ]
  },
  {
   "cell_type": "code",
   "execution_count": 17,
   "id": "d418d2e5",
   "metadata": {},
   "outputs": [],
   "source": [
    "# ### USE THIS TO AVOID STRINGLOOKUP\n",
    "# embedding_dim = 32\n",
    "\n",
    "# customer_model = tf.keras.Sequential([\n",
    "#     tf.keras.layers.StringLookup(vocabulary=unique_customer_ids, mask_token=None),\n",
    "#     tf.keras.layers.Embedding(len(unique_customer_ids)+1, embedding_dim)\n",
    "# ])\n",
    "# article_model = tf.keras.Sequential([\n",
    "#     tf.keras.layers.StringLookup(vocabulary=unique_article_ids, mask_token=None),\n",
    "#     tf.keras.layers.Embedding(len(unique_article_ids)+1, embedding_dim)\n",
    "# ])\n",
    "\n",
    "# task = tfrs.tasks.Retrieval(metrics=tfrs.metrics.FactorizedTopK(\n",
    "#     articles.batch(128).map(article_model)\n",
    "#   )\n",
    "# )"
   ]
  },
  {
   "cell_type": "code",
   "execution_count": 18,
   "id": "b9c9184f",
   "metadata": {},
   "outputs": [],
   "source": [
    "class CustomerModel(tf.keras.Model):\n",
    "  def __init__(self, use_timestamps):\n",
    "    super().__init__()\n",
    "\n",
    "    self._use_timestamps = use_timestamps\n",
    "    \n",
    "    embedding_dim = 32\n",
    "    \n",
    "    self.user_embedding = tf.keras.Sequential([\n",
    "        tf.keras.layers.StringLookup(\n",
    "            vocabulary=unique_customer_ids, mask_token=None),\n",
    "        tf.keras.layers.Embedding(len(unique_customer_ids) + 1, embedding_dim),\n",
    "    ])\n",
    "\n",
    "    if use_timestamps:\n",
    "      self.timestamp_embedding = tf.keras.Sequential([\n",
    "          tf.keras.layers.Discretization(timestamp_buckets.tolist()),\n",
    "          tf.keras.layers.Embedding(len(timestamp_buckets) + 1, embedding_dim),\n",
    "      ])\n",
    "      self.normalized_timestamp = tf.keras.layers.Normalization(\n",
    "          axis=None\n",
    "      )\n",
    "\n",
    "      self.normalized_timestamp.adapt(timestamps)\n",
    "\n",
    "  def call(self, inputs):\n",
    "    print(input)\n",
    "    if not self._use_timestamps:\n",
    "      return self.user_embedding(inputs[\"customer_id\"])\n",
    "\n",
    "    return tf.concat([\n",
    "        self.user_embedding(inputs[\"customer_id\"]),\n",
    "        self.timestamp_embedding(inputs[\"timestamp\"]),\n",
    "        tf.reshape(self.normalized_timestamp(inputs[\"timestamp\"]), (-1, 1)),\n",
    "    ], axis=1)"
   ]
  },
  {
   "cell_type": "code",
   "execution_count": 19,
   "id": "18b7b180",
   "metadata": {},
   "outputs": [],
   "source": [
    "class ArticleModel(tf.keras.Model):\n",
    "\n",
    "  def __init__(self):\n",
    "    super().__init__()\n",
    "\n",
    "    max_tokens = 10_000\n",
    "    \n",
    "    embedding_dim = 32\n",
    "\n",
    "    self.article_id_embedding = tf.keras.Sequential([\n",
    "      tf.keras.layers.StringLookup(\n",
    "          vocabulary=unique_article_ids, mask_token=None),\n",
    "      tf.keras.layers.Embedding(len(unique_article_ids) + 1, embedding_dim)\n",
    "    ])\n",
    "\n",
    "#     self.article_vectorizer = tf.keras.layers.TextVectorization(\n",
    "#         max_tokens=max_tokens)\n",
    "\n",
    "#     self.article_text_embedding = tf.keras.Sequential([\n",
    "#       self.article_vectorizer,\n",
    "#       tf.keras.layers.Embedding(max_tokens, embedding_dim, mask_zero=True),\n",
    "#       tf.keras.layers.GlobalAveragePooling1D(),\n",
    "#     ])\n",
    "\n",
    "#     self.article_vectorizer.adapt(articles.map(lambda x: x[\"prod_name\"]))\n",
    "\n",
    "  def call(self, inputs):\n",
    "    return tf.concat([\n",
    "        self.article_id_embedding(inputs),\n",
    "#         self.article_text_embedding(inputs[\"prod_name\"]),\n",
    "    ], axis=1)"
   ]
  },
  {
   "cell_type": "code",
   "execution_count": 20,
   "id": "5f6ad866",
   "metadata": {},
   "outputs": [],
   "source": [
    "class HNMModel(tfrs.models.Model):\n",
    "\n",
    "  def __init__(self, use_timestamps):\n",
    "    super().__init__()\n",
    "    self.query_model = tf.keras.Sequential([\n",
    "      CustomerModel(use_timestamps),\n",
    "      tf.keras.layers.Dense(32)\n",
    "    ])\n",
    "    self.candidate_model = tf.keras.Sequential([\n",
    "      ArticleModel(),\n",
    "      tf.keras.layers.Dense(32)\n",
    "    ])\n",
    "\n",
    "    self.task = tfrs.tasks.Retrieval(\n",
    "        metrics=tfrs.metrics.FactorizedTopK(\n",
    "            candidates=articles.batch(128).map(self.candidate_model),\n",
    "        ),\n",
    "    )\n",
    "\n",
    "  def compute_loss(self, features, training=False):\n",
    "    query_embedding = self.query_model({\n",
    "        \"customer_id\": features[\"customer_id\"],\n",
    "        \"timestamp\": features[\"timestamp\"],\n",
    "    })\n",
    "    candidate_embedding = self.candidate_model({\n",
    "        \"article_id\": features[\"article_id\"],\n",
    "#         \"prod_name\": features[\"prod_name\"],\n",
    "    })\n",
    "\n",
    "    return self.task(query_embedding, candidate_embedding)"
   ]
  },
  {
   "cell_type": "markdown",
   "id": "5bf05746",
   "metadata": {},
   "source": [
    "## Model Training"
   ]
  },
  {
   "cell_type": "code",
   "execution_count": 21,
   "id": "824a7b22",
   "metadata": {},
   "outputs": [],
   "source": [
    "shuffled = trans.shuffle(100_000, reshuffle_each_iteration=False)\n",
    "\n",
    "train = shuffled.take(80_000)\n",
    "test = shuffled.skip(80_000).take(20_000)\n",
    "\n",
    "cached_train = train.shuffle(100_000).batch(2048)\n",
    "cached_test = test.batch(4096).cache()"
   ]
  },
  {
   "cell_type": "code",
   "execution_count": 22,
   "id": "b6ac403d",
   "metadata": {
    "scrolled": true
   },
   "outputs": [
    {
     "data": {
      "text/plain": [
       "{'customer_id': array([b'023f824c14a72c9e34021bffbd5da1097f7f02cc931a1af78ba138d8e7dd8ef2',\n",
       "        b'8f4e9d2a9bbe405873a55d1d4c31178b5684c781d448bcf90ec075c8dca02fe4',\n",
       "        b'caa3ed432d26d8c4b1c29c43e67c232e7de4dbe93cb658c9ea2cbaf3131f3f31',\n",
       "        ...,\n",
       "        b'0af8b2efbdac8376e2c24db5783ce64dfc5f24ecc26612d2b4d52410f7b19165',\n",
       "        b'4e6d744bf1dac1bbe4832725cdb37124304164276af58fe8f6b501c51b00c006',\n",
       "        b'fd81dbfa6009110f8455616347ea56518e6b0161057346a47203f56f3e506744'],\n",
       "       dtype=object),\n",
       " 'article_id': array([b'676539002', b'562245059', b'657815001', ..., b'703193001',\n",
       "        b'500435003', b'671505001'], dtype=object),\n",
       " 'prod_name': array([b'Jewels', b'Luna skinny RW', b'GEMINI trousers', ...,\n",
       "        b'EDC GABRIELLE DRESSS', b'Cool Bree bandana', b'EDC ROMAN BLOUSE'],\n",
       "       dtype=object),\n",
       " 'timestamp': array([-1.e-09,  0.e+00,  0.e+00, ..., -1.e-09, -1.e-09, -1.e-09])}"
      ]
     },
     "execution_count": 22,
     "metadata": {},
     "output_type": "execute_result"
    }
   ],
   "source": [
    "list(cached_train.as_numpy_iterator())[0]"
   ]
  },
  {
   "cell_type": "code",
   "execution_count": 23,
   "id": "25c78c01",
   "metadata": {},
   "outputs": [],
   "source": [
    "ds = tf.data.Dataset.range(100)\n",
    "ds = ds.shuffle(10)\n",
    "\n",
    "tr = ds.take(8)\n",
    "test = ds.skip(8).take(2)\n",
    "\n",
    "c_tr = tr.shuffle(10)"
   ]
  },
  {
   "cell_type": "code",
   "execution_count": 24,
   "id": "9b0c0c34",
   "metadata": {},
   "outputs": [
    {
     "data": {
      "text/plain": [
       "[10, 6, 7, 11, 12, 9, 13, 4]"
      ]
     },
     "execution_count": 24,
     "metadata": {},
     "output_type": "execute_result"
    }
   ],
   "source": [
    "list(c_tr.as_numpy_iterator())"
   ]
  },
  {
   "cell_type": "code",
   "execution_count": 43,
   "id": "a858c6bb",
   "metadata": {},
   "outputs": [
    {
     "name": "stdout",
     "output_type": "stream",
     "text": [
      "WARNING:tensorflow:`period` argument is deprecated. Please use `save_freq` to specify the frequency in number of batches seen.\n"
     ]
    }
   ],
   "source": [
    "checkpoint_path = \"checkpoints/test_1/cp-{epoch:04d}.ckpt\"\n",
    "checkpoint_dir = os.path.dirname(checkpoint_path)\n",
    "\n",
    "# Create a callback that saves the model's weights\n",
    "cp_callback = tf.keras.callbacks.ModelCheckpoint(filepath=checkpoint_path,\n",
    "                                                 save_weights_only=True,\n",
    "                                                 verbose=1,\n",
    "                                                period=1)"
   ]
  },
  {
   "cell_type": "code",
   "execution_count": 44,
   "id": "3846c576",
   "metadata": {
    "scrolled": true
   },
   "outputs": [
    {
     "name": "stdout",
     "output_type": "stream",
     "text": [
      "Epoch 1/100\n",
      "WARNING:tensorflow:Layers in a Sequential model should only have a single input tensor. Received: inputs={'customer_id': <tf.Tensor 'IteratorGetNext:1' shape=(None,) dtype=string>, 'timestamp': <tf.Tensor 'IteratorGetNext:3' shape=(None,) dtype=float64>}. Consider rewriting this model with the Functional API.\n",
      "<bound method Kernel.raw_input of <ipykernel.ipkernel.IPythonKernel object at 0x000002614642F9D0>>\n",
      "WARNING:tensorflow:Layers in a Sequential model should only have a single input tensor. Received: inputs={'article_id': <tf.Tensor 'IteratorGetNext:0' shape=(None,) dtype=string>}. Consider rewriting this model with the Functional API.\n",
      "WARNING:tensorflow:Layers in a Sequential model should only have a single input tensor. Received: inputs={'customer_id': <tf.Tensor 'IteratorGetNext:1' shape=(None,) dtype=string>, 'timestamp': <tf.Tensor 'IteratorGetNext:3' shape=(None,) dtype=float64>}. Consider rewriting this model with the Functional API.\n",
      "<bound method Kernel.raw_input of <ipykernel.ipkernel.IPythonKernel object at 0x000002614642F9D0>>\n",
      "WARNING:tensorflow:Layers in a Sequential model should only have a single input tensor. Received: inputs={'article_id': <tf.Tensor 'IteratorGetNext:0' shape=(None,) dtype=string>}. Consider rewriting this model with the Functional API.\n",
      "40/40 [==============================] - ETA: 0s - factorized_top_k/top_1_categorical_accuracy: 0.0013 - factorized_top_k/top_5_categorical_accuracy: 0.0078 - factorized_top_k/top_10_categorical_accuracy: 0.0124 - factorized_top_k/top_50_categorical_accuracy: 0.0311 - factorized_top_k/top_100_categorical_accuracy: 0.0456 - loss: 15203.4268 - regularization_loss: 0.0000e+00 - total_loss: 15203.4268\n",
      "Epoch 1: saving model to checkpoints/test_1\\cp-0001.ckpt\n",
      "40/40 [==============================] - 75s 2s/step - factorized_top_k/top_1_categorical_accuracy: 0.0013 - factorized_top_k/top_5_categorical_accuracy: 0.0078 - factorized_top_k/top_10_categorical_accuracy: 0.0124 - factorized_top_k/top_50_categorical_accuracy: 0.0311 - factorized_top_k/top_100_categorical_accuracy: 0.0456 - loss: 14847.6778 - regularization_loss: 0.0000e+00 - total_loss: 14847.6778\n",
      "Epoch 2/100\n",
      "40/40 [==============================] - ETA: 0s - factorized_top_k/top_1_categorical_accuracy: 0.0092 - factorized_top_k/top_5_categorical_accuracy: 0.0519 - factorized_top_k/top_10_categorical_accuracy: 0.0736 - factorized_top_k/top_50_categorical_accuracy: 0.1490 - factorized_top_k/top_100_categorical_accuracy: 0.1982 - loss: 14073.7009 - regularization_loss: 0.0000e+00 - total_loss: 14073.7009\n",
      "Epoch 2: saving model to checkpoints/test_1\\cp-0002.ckpt\n",
      "40/40 [==============================] - 74s 2s/step - factorized_top_k/top_1_categorical_accuracy: 0.0092 - factorized_top_k/top_5_categorical_accuracy: 0.0519 - factorized_top_k/top_10_categorical_accuracy: 0.0736 - factorized_top_k/top_50_categorical_accuracy: 0.1490 - factorized_top_k/top_100_categorical_accuracy: 0.1982 - loss: 13743.4572 - regularization_loss: 0.0000e+00 - total_loss: 13743.4572\n",
      "Epoch 3/100\n",
      "19/40 [=============>................] - ETA: 38s - factorized_top_k/top_1_categorical_accuracy: 0.0539 - factorized_top_k/top_5_categorical_accuracy: 0.1868 - factorized_top_k/top_10_categorical_accuracy: 0.2439 - factorized_top_k/top_50_categorical_accuracy: 0.3989 - factorized_top_k/top_100_categorical_accuracy: 0.4807 - loss: 10576.7669 - regularization_loss: 0.0000e+00 - total_loss: 10576.7669"
     ]
    },
    {
     "ename": "KeyboardInterrupt",
     "evalue": "",
     "output_type": "error",
     "traceback": [
      "\u001b[1;31m---------------------------------------------------------------------------\u001b[0m",
      "\u001b[1;31mKeyboardInterrupt\u001b[0m                         Traceback (most recent call last)",
      "Input \u001b[1;32mIn [44]\u001b[0m, in \u001b[0;36m<cell line: 4>\u001b[1;34m()\u001b[0m\n\u001b[0;32m      1\u001b[0m model \u001b[38;5;241m=\u001b[39m HNMModel(use_timestamps\u001b[38;5;241m=\u001b[39m\u001b[38;5;28;01mFalse\u001b[39;00m)\n\u001b[0;32m      2\u001b[0m model\u001b[38;5;241m.\u001b[39mcompile(optimizer\u001b[38;5;241m=\u001b[39mtf\u001b[38;5;241m.\u001b[39mkeras\u001b[38;5;241m.\u001b[39moptimizers\u001b[38;5;241m.\u001b[39mAdagrad(\u001b[38;5;241m0.1\u001b[39m))\n\u001b[1;32m----> 4\u001b[0m model_def \u001b[38;5;241m=\u001b[39m \u001b[43mmodel\u001b[49m\u001b[38;5;241;43m.\u001b[39;49m\u001b[43mfit\u001b[49m\u001b[43m(\u001b[49m\n\u001b[0;32m      5\u001b[0m \u001b[43m    \u001b[49m\u001b[43mcached_train\u001b[49m\u001b[43m,\u001b[49m\n\u001b[0;32m      6\u001b[0m \u001b[43m    \u001b[49m\u001b[43mvalidation_data\u001b[49m\u001b[38;5;241;43m=\u001b[39;49m\u001b[43mcached_test\u001b[49m\u001b[43m,\u001b[49m\n\u001b[0;32m      7\u001b[0m \u001b[43m    \u001b[49m\u001b[43mvalidation_freq\u001b[49m\u001b[38;5;241;43m=\u001b[39;49m\u001b[38;5;241;43m5\u001b[39;49m\u001b[43m,\u001b[49m\n\u001b[0;32m      8\u001b[0m \u001b[43m    \u001b[49m\u001b[43mepochs\u001b[49m\u001b[38;5;241;43m=\u001b[39;49m\u001b[38;5;241;43m100\u001b[39;49m\u001b[43m,\u001b[49m\n\u001b[0;32m      9\u001b[0m \u001b[43m    \u001b[49m\u001b[43mcallbacks\u001b[49m\u001b[38;5;241;43m=\u001b[39;49m\u001b[43m[\u001b[49m\u001b[43mcp_callback\u001b[49m\u001b[43m]\u001b[49m\n\u001b[0;32m     10\u001b[0m \u001b[43m)\u001b[49m\n",
      "File \u001b[1;32m~\\anaconda3\\envs\\ikar_hnm\\lib\\site-packages\\keras\\utils\\traceback_utils.py:64\u001b[0m, in \u001b[0;36mfilter_traceback.<locals>.error_handler\u001b[1;34m(*args, **kwargs)\u001b[0m\n\u001b[0;32m     62\u001b[0m filtered_tb \u001b[38;5;241m=\u001b[39m \u001b[38;5;28;01mNone\u001b[39;00m\n\u001b[0;32m     63\u001b[0m \u001b[38;5;28;01mtry\u001b[39;00m:\n\u001b[1;32m---> 64\u001b[0m   \u001b[38;5;28;01mreturn\u001b[39;00m \u001b[43mfn\u001b[49m\u001b[43m(\u001b[49m\u001b[38;5;241;43m*\u001b[39;49m\u001b[43margs\u001b[49m\u001b[43m,\u001b[49m\u001b[43m \u001b[49m\u001b[38;5;241;43m*\u001b[39;49m\u001b[38;5;241;43m*\u001b[39;49m\u001b[43mkwargs\u001b[49m\u001b[43m)\u001b[49m\n\u001b[0;32m     65\u001b[0m \u001b[38;5;28;01mexcept\u001b[39;00m \u001b[38;5;167;01mException\u001b[39;00m \u001b[38;5;28;01mas\u001b[39;00m e:  \u001b[38;5;66;03m# pylint: disable=broad-except\u001b[39;00m\n\u001b[0;32m     66\u001b[0m   filtered_tb \u001b[38;5;241m=\u001b[39m _process_traceback_frames(e\u001b[38;5;241m.\u001b[39m__traceback__)\n",
      "File \u001b[1;32m~\\anaconda3\\envs\\ikar_hnm\\lib\\site-packages\\keras\\engine\\training.py:1384\u001b[0m, in \u001b[0;36mModel.fit\u001b[1;34m(self, x, y, batch_size, epochs, verbose, callbacks, validation_split, validation_data, shuffle, class_weight, sample_weight, initial_epoch, steps_per_epoch, validation_steps, validation_batch_size, validation_freq, max_queue_size, workers, use_multiprocessing)\u001b[0m\n\u001b[0;32m   1377\u001b[0m \u001b[38;5;28;01mwith\u001b[39;00m tf\u001b[38;5;241m.\u001b[39mprofiler\u001b[38;5;241m.\u001b[39mexperimental\u001b[38;5;241m.\u001b[39mTrace(\n\u001b[0;32m   1378\u001b[0m     \u001b[38;5;124m'\u001b[39m\u001b[38;5;124mtrain\u001b[39m\u001b[38;5;124m'\u001b[39m,\n\u001b[0;32m   1379\u001b[0m     epoch_num\u001b[38;5;241m=\u001b[39mepoch,\n\u001b[0;32m   1380\u001b[0m     step_num\u001b[38;5;241m=\u001b[39mstep,\n\u001b[0;32m   1381\u001b[0m     batch_size\u001b[38;5;241m=\u001b[39mbatch_size,\n\u001b[0;32m   1382\u001b[0m     _r\u001b[38;5;241m=\u001b[39m\u001b[38;5;241m1\u001b[39m):\n\u001b[0;32m   1383\u001b[0m   callbacks\u001b[38;5;241m.\u001b[39mon_train_batch_begin(step)\n\u001b[1;32m-> 1384\u001b[0m   tmp_logs \u001b[38;5;241m=\u001b[39m \u001b[38;5;28;43mself\u001b[39;49m\u001b[38;5;241;43m.\u001b[39;49m\u001b[43mtrain_function\u001b[49m\u001b[43m(\u001b[49m\u001b[43miterator\u001b[49m\u001b[43m)\u001b[49m\n\u001b[0;32m   1385\u001b[0m   \u001b[38;5;28;01mif\u001b[39;00m data_handler\u001b[38;5;241m.\u001b[39mshould_sync:\n\u001b[0;32m   1386\u001b[0m     context\u001b[38;5;241m.\u001b[39masync_wait()\n",
      "File \u001b[1;32m~\\anaconda3\\envs\\ikar_hnm\\lib\\site-packages\\tensorflow\\python\\util\\traceback_utils.py:150\u001b[0m, in \u001b[0;36mfilter_traceback.<locals>.error_handler\u001b[1;34m(*args, **kwargs)\u001b[0m\n\u001b[0;32m    148\u001b[0m filtered_tb \u001b[38;5;241m=\u001b[39m \u001b[38;5;28;01mNone\u001b[39;00m\n\u001b[0;32m    149\u001b[0m \u001b[38;5;28;01mtry\u001b[39;00m:\n\u001b[1;32m--> 150\u001b[0m   \u001b[38;5;28;01mreturn\u001b[39;00m \u001b[43mfn\u001b[49m\u001b[43m(\u001b[49m\u001b[38;5;241;43m*\u001b[39;49m\u001b[43margs\u001b[49m\u001b[43m,\u001b[49m\u001b[43m \u001b[49m\u001b[38;5;241;43m*\u001b[39;49m\u001b[38;5;241;43m*\u001b[39;49m\u001b[43mkwargs\u001b[49m\u001b[43m)\u001b[49m\n\u001b[0;32m    151\u001b[0m \u001b[38;5;28;01mexcept\u001b[39;00m \u001b[38;5;167;01mException\u001b[39;00m \u001b[38;5;28;01mas\u001b[39;00m e:\n\u001b[0;32m    152\u001b[0m   filtered_tb \u001b[38;5;241m=\u001b[39m _process_traceback_frames(e\u001b[38;5;241m.\u001b[39m__traceback__)\n",
      "File \u001b[1;32m~\\anaconda3\\envs\\ikar_hnm\\lib\\site-packages\\tensorflow\\python\\eager\\def_function.py:915\u001b[0m, in \u001b[0;36mFunction.__call__\u001b[1;34m(self, *args, **kwds)\u001b[0m\n\u001b[0;32m    912\u001b[0m compiler \u001b[38;5;241m=\u001b[39m \u001b[38;5;124m\"\u001b[39m\u001b[38;5;124mxla\u001b[39m\u001b[38;5;124m\"\u001b[39m \u001b[38;5;28;01mif\u001b[39;00m \u001b[38;5;28mself\u001b[39m\u001b[38;5;241m.\u001b[39m_jit_compile \u001b[38;5;28;01melse\u001b[39;00m \u001b[38;5;124m\"\u001b[39m\u001b[38;5;124mnonXla\u001b[39m\u001b[38;5;124m\"\u001b[39m\n\u001b[0;32m    914\u001b[0m \u001b[38;5;28;01mwith\u001b[39;00m OptionalXlaContext(\u001b[38;5;28mself\u001b[39m\u001b[38;5;241m.\u001b[39m_jit_compile):\n\u001b[1;32m--> 915\u001b[0m   result \u001b[38;5;241m=\u001b[39m \u001b[38;5;28;43mself\u001b[39;49m\u001b[38;5;241;43m.\u001b[39;49m\u001b[43m_call\u001b[49m\u001b[43m(\u001b[49m\u001b[38;5;241;43m*\u001b[39;49m\u001b[43margs\u001b[49m\u001b[43m,\u001b[49m\u001b[43m \u001b[49m\u001b[38;5;241;43m*\u001b[39;49m\u001b[38;5;241;43m*\u001b[39;49m\u001b[43mkwds\u001b[49m\u001b[43m)\u001b[49m\n\u001b[0;32m    917\u001b[0m new_tracing_count \u001b[38;5;241m=\u001b[39m \u001b[38;5;28mself\u001b[39m\u001b[38;5;241m.\u001b[39mexperimental_get_tracing_count()\n\u001b[0;32m    918\u001b[0m without_tracing \u001b[38;5;241m=\u001b[39m (tracing_count \u001b[38;5;241m==\u001b[39m new_tracing_count)\n",
      "File \u001b[1;32m~\\anaconda3\\envs\\ikar_hnm\\lib\\site-packages\\tensorflow\\python\\eager\\def_function.py:947\u001b[0m, in \u001b[0;36mFunction._call\u001b[1;34m(self, *args, **kwds)\u001b[0m\n\u001b[0;32m    944\u001b[0m   \u001b[38;5;28mself\u001b[39m\u001b[38;5;241m.\u001b[39m_lock\u001b[38;5;241m.\u001b[39mrelease()\n\u001b[0;32m    945\u001b[0m   \u001b[38;5;66;03m# In this case we have created variables on the first call, so we run the\u001b[39;00m\n\u001b[0;32m    946\u001b[0m   \u001b[38;5;66;03m# defunned version which is guaranteed to never create variables.\u001b[39;00m\n\u001b[1;32m--> 947\u001b[0m   \u001b[38;5;28;01mreturn\u001b[39;00m \u001b[38;5;28;43mself\u001b[39;49m\u001b[38;5;241;43m.\u001b[39;49m\u001b[43m_stateless_fn\u001b[49m\u001b[43m(\u001b[49m\u001b[38;5;241;43m*\u001b[39;49m\u001b[43margs\u001b[49m\u001b[43m,\u001b[49m\u001b[43m \u001b[49m\u001b[38;5;241;43m*\u001b[39;49m\u001b[38;5;241;43m*\u001b[39;49m\u001b[43mkwds\u001b[49m\u001b[43m)\u001b[49m  \u001b[38;5;66;03m# pylint: disable=not-callable\u001b[39;00m\n\u001b[0;32m    948\u001b[0m \u001b[38;5;28;01melif\u001b[39;00m \u001b[38;5;28mself\u001b[39m\u001b[38;5;241m.\u001b[39m_stateful_fn \u001b[38;5;129;01mis\u001b[39;00m \u001b[38;5;129;01mnot\u001b[39;00m \u001b[38;5;28;01mNone\u001b[39;00m:\n\u001b[0;32m    949\u001b[0m   \u001b[38;5;66;03m# Release the lock early so that multiple threads can perform the call\u001b[39;00m\n\u001b[0;32m    950\u001b[0m   \u001b[38;5;66;03m# in parallel.\u001b[39;00m\n\u001b[0;32m    951\u001b[0m   \u001b[38;5;28mself\u001b[39m\u001b[38;5;241m.\u001b[39m_lock\u001b[38;5;241m.\u001b[39mrelease()\n",
      "File \u001b[1;32m~\\anaconda3\\envs\\ikar_hnm\\lib\\site-packages\\tensorflow\\python\\eager\\function.py:2956\u001b[0m, in \u001b[0;36mFunction.__call__\u001b[1;34m(self, *args, **kwargs)\u001b[0m\n\u001b[0;32m   2953\u001b[0m \u001b[38;5;28;01mwith\u001b[39;00m \u001b[38;5;28mself\u001b[39m\u001b[38;5;241m.\u001b[39m_lock:\n\u001b[0;32m   2954\u001b[0m   (graph_function,\n\u001b[0;32m   2955\u001b[0m    filtered_flat_args) \u001b[38;5;241m=\u001b[39m \u001b[38;5;28mself\u001b[39m\u001b[38;5;241m.\u001b[39m_maybe_define_function(args, kwargs)\n\u001b[1;32m-> 2956\u001b[0m \u001b[38;5;28;01mreturn\u001b[39;00m \u001b[43mgraph_function\u001b[49m\u001b[38;5;241;43m.\u001b[39;49m\u001b[43m_call_flat\u001b[49m\u001b[43m(\u001b[49m\n\u001b[0;32m   2957\u001b[0m \u001b[43m    \u001b[49m\u001b[43mfiltered_flat_args\u001b[49m\u001b[43m,\u001b[49m\u001b[43m \u001b[49m\u001b[43mcaptured_inputs\u001b[49m\u001b[38;5;241;43m=\u001b[39;49m\u001b[43mgraph_function\u001b[49m\u001b[38;5;241;43m.\u001b[39;49m\u001b[43mcaptured_inputs\u001b[49m\u001b[43m)\u001b[49m\n",
      "File \u001b[1;32m~\\anaconda3\\envs\\ikar_hnm\\lib\\site-packages\\tensorflow\\python\\eager\\function.py:1853\u001b[0m, in \u001b[0;36mConcreteFunction._call_flat\u001b[1;34m(self, args, captured_inputs, cancellation_manager)\u001b[0m\n\u001b[0;32m   1849\u001b[0m possible_gradient_type \u001b[38;5;241m=\u001b[39m gradients_util\u001b[38;5;241m.\u001b[39mPossibleTapeGradientTypes(args)\n\u001b[0;32m   1850\u001b[0m \u001b[38;5;28;01mif\u001b[39;00m (possible_gradient_type \u001b[38;5;241m==\u001b[39m gradients_util\u001b[38;5;241m.\u001b[39mPOSSIBLE_GRADIENT_TYPES_NONE\n\u001b[0;32m   1851\u001b[0m     \u001b[38;5;129;01mand\u001b[39;00m executing_eagerly):\n\u001b[0;32m   1852\u001b[0m   \u001b[38;5;66;03m# No tape is watching; skip to running the function.\u001b[39;00m\n\u001b[1;32m-> 1853\u001b[0m   \u001b[38;5;28;01mreturn\u001b[39;00m \u001b[38;5;28mself\u001b[39m\u001b[38;5;241m.\u001b[39m_build_call_outputs(\u001b[38;5;28;43mself\u001b[39;49m\u001b[38;5;241;43m.\u001b[39;49m\u001b[43m_inference_function\u001b[49m\u001b[38;5;241;43m.\u001b[39;49m\u001b[43mcall\u001b[49m\u001b[43m(\u001b[49m\n\u001b[0;32m   1854\u001b[0m \u001b[43m      \u001b[49m\u001b[43mctx\u001b[49m\u001b[43m,\u001b[49m\u001b[43m \u001b[49m\u001b[43margs\u001b[49m\u001b[43m,\u001b[49m\u001b[43m \u001b[49m\u001b[43mcancellation_manager\u001b[49m\u001b[38;5;241;43m=\u001b[39;49m\u001b[43mcancellation_manager\u001b[49m\u001b[43m)\u001b[49m)\n\u001b[0;32m   1855\u001b[0m forward_backward \u001b[38;5;241m=\u001b[39m \u001b[38;5;28mself\u001b[39m\u001b[38;5;241m.\u001b[39m_select_forward_and_backward_functions(\n\u001b[0;32m   1856\u001b[0m     args,\n\u001b[0;32m   1857\u001b[0m     possible_gradient_type,\n\u001b[0;32m   1858\u001b[0m     executing_eagerly)\n\u001b[0;32m   1859\u001b[0m forward_function, args_with_tangents \u001b[38;5;241m=\u001b[39m forward_backward\u001b[38;5;241m.\u001b[39mforward()\n",
      "File \u001b[1;32m~\\anaconda3\\envs\\ikar_hnm\\lib\\site-packages\\tensorflow\\python\\eager\\function.py:499\u001b[0m, in \u001b[0;36m_EagerDefinedFunction.call\u001b[1;34m(self, ctx, args, cancellation_manager)\u001b[0m\n\u001b[0;32m    497\u001b[0m \u001b[38;5;28;01mwith\u001b[39;00m _InterpolateFunctionError(\u001b[38;5;28mself\u001b[39m):\n\u001b[0;32m    498\u001b[0m   \u001b[38;5;28;01mif\u001b[39;00m cancellation_manager \u001b[38;5;129;01mis\u001b[39;00m \u001b[38;5;28;01mNone\u001b[39;00m:\n\u001b[1;32m--> 499\u001b[0m     outputs \u001b[38;5;241m=\u001b[39m \u001b[43mexecute\u001b[49m\u001b[38;5;241;43m.\u001b[39;49m\u001b[43mexecute\u001b[49m\u001b[43m(\u001b[49m\n\u001b[0;32m    500\u001b[0m \u001b[43m        \u001b[49m\u001b[38;5;28;43mstr\u001b[39;49m\u001b[43m(\u001b[49m\u001b[38;5;28;43mself\u001b[39;49m\u001b[38;5;241;43m.\u001b[39;49m\u001b[43msignature\u001b[49m\u001b[38;5;241;43m.\u001b[39;49m\u001b[43mname\u001b[49m\u001b[43m)\u001b[49m\u001b[43m,\u001b[49m\n\u001b[0;32m    501\u001b[0m \u001b[43m        \u001b[49m\u001b[43mnum_outputs\u001b[49m\u001b[38;5;241;43m=\u001b[39;49m\u001b[38;5;28;43mself\u001b[39;49m\u001b[38;5;241;43m.\u001b[39;49m\u001b[43m_num_outputs\u001b[49m\u001b[43m,\u001b[49m\n\u001b[0;32m    502\u001b[0m \u001b[43m        \u001b[49m\u001b[43minputs\u001b[49m\u001b[38;5;241;43m=\u001b[39;49m\u001b[43margs\u001b[49m\u001b[43m,\u001b[49m\n\u001b[0;32m    503\u001b[0m \u001b[43m        \u001b[49m\u001b[43mattrs\u001b[49m\u001b[38;5;241;43m=\u001b[39;49m\u001b[43mattrs\u001b[49m\u001b[43m,\u001b[49m\n\u001b[0;32m    504\u001b[0m \u001b[43m        \u001b[49m\u001b[43mctx\u001b[49m\u001b[38;5;241;43m=\u001b[39;49m\u001b[43mctx\u001b[49m\u001b[43m)\u001b[49m\n\u001b[0;32m    505\u001b[0m   \u001b[38;5;28;01melse\u001b[39;00m:\n\u001b[0;32m    506\u001b[0m     outputs \u001b[38;5;241m=\u001b[39m execute\u001b[38;5;241m.\u001b[39mexecute_with_cancellation(\n\u001b[0;32m    507\u001b[0m         \u001b[38;5;28mstr\u001b[39m(\u001b[38;5;28mself\u001b[39m\u001b[38;5;241m.\u001b[39msignature\u001b[38;5;241m.\u001b[39mname),\n\u001b[0;32m    508\u001b[0m         num_outputs\u001b[38;5;241m=\u001b[39m\u001b[38;5;28mself\u001b[39m\u001b[38;5;241m.\u001b[39m_num_outputs,\n\u001b[1;32m   (...)\u001b[0m\n\u001b[0;32m    511\u001b[0m         ctx\u001b[38;5;241m=\u001b[39mctx,\n\u001b[0;32m    512\u001b[0m         cancellation_manager\u001b[38;5;241m=\u001b[39mcancellation_manager)\n",
      "File \u001b[1;32m~\\anaconda3\\envs\\ikar_hnm\\lib\\site-packages\\tensorflow\\python\\eager\\execute.py:54\u001b[0m, in \u001b[0;36mquick_execute\u001b[1;34m(op_name, num_outputs, inputs, attrs, ctx, name)\u001b[0m\n\u001b[0;32m     52\u001b[0m \u001b[38;5;28;01mtry\u001b[39;00m:\n\u001b[0;32m     53\u001b[0m   ctx\u001b[38;5;241m.\u001b[39mensure_initialized()\n\u001b[1;32m---> 54\u001b[0m   tensors \u001b[38;5;241m=\u001b[39m \u001b[43mpywrap_tfe\u001b[49m\u001b[38;5;241;43m.\u001b[39;49m\u001b[43mTFE_Py_Execute\u001b[49m\u001b[43m(\u001b[49m\u001b[43mctx\u001b[49m\u001b[38;5;241;43m.\u001b[39;49m\u001b[43m_handle\u001b[49m\u001b[43m,\u001b[49m\u001b[43m \u001b[49m\u001b[43mdevice_name\u001b[49m\u001b[43m,\u001b[49m\u001b[43m \u001b[49m\u001b[43mop_name\u001b[49m\u001b[43m,\u001b[49m\n\u001b[0;32m     55\u001b[0m \u001b[43m                                      \u001b[49m\u001b[43minputs\u001b[49m\u001b[43m,\u001b[49m\u001b[43m \u001b[49m\u001b[43mattrs\u001b[49m\u001b[43m,\u001b[49m\u001b[43m \u001b[49m\u001b[43mnum_outputs\u001b[49m\u001b[43m)\u001b[49m\n\u001b[0;32m     56\u001b[0m \u001b[38;5;28;01mexcept\u001b[39;00m core\u001b[38;5;241m.\u001b[39m_NotOkStatusException \u001b[38;5;28;01mas\u001b[39;00m e:\n\u001b[0;32m     57\u001b[0m   \u001b[38;5;28;01mif\u001b[39;00m name \u001b[38;5;129;01mis\u001b[39;00m \u001b[38;5;129;01mnot\u001b[39;00m \u001b[38;5;28;01mNone\u001b[39;00m:\n",
      "\u001b[1;31mKeyboardInterrupt\u001b[0m: "
     ]
    }
   ],
   "source": [
    "model = HNMModel(use_timestamps=False)\n",
    "model.compile(optimizer=tf.keras.optimizers.Adagrad(0.1))\n",
    "\n",
    "model_def = model.fit(\n",
    "    cached_train,\n",
    "    validation_data=cached_test,\n",
    "    validation_freq=5,\n",
    "    epochs=100,\n",
    "    callbacks=[cp_callback]\n",
    ")\n",
    "\n",
    "# train_accuracy = model.evaluate(\n",
    "#     cached_train, return_dict=True)[\"factorized_top_k/top_100_categorical_accuracy\"]\n",
    "# test_accuracy = model.evaluate(\n",
    "#     cached_test, return_dict=True)[\"factorized_top_k/top_100_categorical_accuracy\"]\n",
    "\n",
    "# print(f\"Top-100 accuracy (train): {train_accuracy:.2f}.\")\n",
    "# print(f\"Top-100 accuracy (test): {test_accuracy:.2f}.\")"
   ]
  },
  {
   "cell_type": "code",
   "execution_count": null,
   "id": "0f9af04c",
   "metadata": {},
   "outputs": [],
   "source": [
    "model = HNMModel(use_timestamps=True)\n",
    "model.compile(optimizer=tf.keras.optimizers.Adagrad(0.1))\n",
    "\n",
    "model_ts = model.fit(\n",
    "    cached_train,\n",
    "    validation_data=cached_test,\n",
    "    validation_freq=5,\n",
    "    epochs=100)\n",
    "\n",
    "# train_accuracy = model.evaluate(\n",
    "#     cached_train, return_dict=True)[\"factorized_top_k/top_100_categorical_accuracy\"]\n",
    "# test_accuracy = model.evaluate(\n",
    "#     cached_test, return_dict=True)[\"factorized_top_k/top_100_categorical_accuracy\"]\n",
    "\n",
    "# print(f\"Top-100 accuracy (train): {train_accuracy:.2f}.\")\n",
    "# print(f\"Top-100 accuracy (test): {test_accuracy:.2f}.\")"
   ]
  },
  {
   "cell_type": "code",
   "execution_count": null,
   "id": "9eedd290",
   "metadata": {},
   "outputs": [],
   "source": [
    "# model = RecModel(customer_model, article_model, task)\n",
    "# model.compile(optimizer=tf.keras.optimizers.Adagrad(0.5))\n",
    "\n",
    "# model.fit(trans.batch(4096), epochs=3)"
   ]
  },
  {
   "cell_type": "code",
   "execution_count": null,
   "id": "611caf82",
   "metadata": {},
   "outputs": [],
   "source": [
    "num_validation_runs = len(model_def.history[\"val_factorized_top_k/top_10_categorical_accuracy\"])\n",
    "epochs = [(x + 1)* 5 for x in range(num_validation_runs)]\n",
    "\n",
    "plt.plot(epochs, model_def.history[\"val_factorized_top_k/top_10_categorical_accuracy\"], label=\"w/o timesteps\")\n",
    "plt.plot(epochs, model_ts.history[\"val_factorized_top_k/top_10_categorical_accuracy\"], label=\"w/ timesteps\")\n",
    "plt.title(\"Accuracy vs epoch\")\n",
    "plt.xlabel(\"epoch\")\n",
    "plt.ylabel(\"Top-100 accuracy\");\n",
    "plt.legend()"
   ]
  },
  {
   "cell_type": "markdown",
   "id": "2bfacc69",
   "metadata": {},
   "source": [
    "## Get Recommendation"
   ]
  },
  {
   "cell_type": "code",
   "execution_count": null,
   "id": "239b0c09",
   "metadata": {},
   "outputs": [],
   "source": [
    "articles.batch(100)"
   ]
  },
  {
   "cell_type": "code",
   "execution_count": null,
   "id": "fe8b21ee",
   "metadata": {},
   "outputs": [],
   "source": []
  },
  {
   "cell_type": "code",
   "execution_count": null,
   "id": "ca6acea4",
   "metadata": {},
   "outputs": [],
   "source": [
    "index = tfrs.layers.factorized_top_k.BruteForce(model.query_model)\n",
    "\n",
    "# print(articles.batch(100).map(lambda title: (title, model.candidate_model(title))))\n",
    "\n",
    "# index.index_from_dataset(\n",
    "#     articles.batch(100).map(lambda title: (title, model.candidate_model(title))))\n",
    "\n",
    "index.index_from_dataset(\n",
    "    articles.batch(100).map(lambda x: model.candidate_model({\n",
    "        'article_id': x['article_id'],\n",
    "        'prod_name' : x['prod_name'],\n",
    "    })))\n",
    "\n",
    "# index.index(articles.batch(100).map(model.candidate_model),\n",
    "#            articles.batch(100).map(lambda x: x['article_id']))\n",
    "\n",
    "# model.candidate_model('')\n",
    "\n",
    "test_query = dict(trans_df[['customer_id',\n",
    "                           'timestamp',\n",
    "                        ]].iloc[10].map(lambda x: tf.expand_dims(x, axis=0)))\n",
    "\n",
    "_, titles = index(test_query, k=3)\n",
    "print(f\"Top 12 recommendations for user 40: {titles[0, :20]}\")"
   ]
  },
  {
   "cell_type": "code",
   "execution_count": null,
   "id": "34a22261",
   "metadata": {},
   "outputs": [],
   "source": [
    "article_map[501323011]"
   ]
  },
  {
   "cell_type": "code",
   "execution_count": null,
   "id": "25151ed8",
   "metadata": {},
   "outputs": [],
   "source": [
    "trans_df.iloc[0].customer_id"
   ]
  },
  {
   "cell_type": "code",
   "execution_count": null,
   "id": "af93e6ac",
   "metadata": {
    "scrolled": true
   },
   "outputs": [],
   "source": [
    "trans_df[['customer_id','timestamp']].iloc[0]"
   ]
  },
  {
   "cell_type": "code",
   "execution_count": null,
   "id": "074eb4f8",
   "metadata": {},
   "outputs": [],
   "source": []
  }
 ],
 "metadata": {
  "kernelspec": {
   "display_name": "Python 3 (ipykernel)",
   "language": "python",
   "name": "python3"
  },
  "language_info": {
   "codemirror_mode": {
    "name": "ipython",
    "version": 3
   },
   "file_extension": ".py",
   "mimetype": "text/x-python",
   "name": "python",
   "nbconvert_exporter": "python",
   "pygments_lexer": "ipython3",
   "version": "3.8.13"
  }
 },
 "nbformat": 4,
 "nbformat_minor": 5
}
