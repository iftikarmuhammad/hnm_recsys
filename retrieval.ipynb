{
 "cells": [
  {
   "cell_type": "code",
   "execution_count": 2,
   "id": "17acabec",
   "metadata": {
    "scrolled": true
   },
   "outputs": [
    {
     "name": "stderr",
     "output_type": "stream",
     "text": [
      "/usr/lib/python3/dist-packages/requests/__init__.py:89: RequestsDependencyWarning: urllib3 (1.26.9) or chardet (3.0.4) doesn't match a supported version!\n",
      "  warnings.warn(\"urllib3 ({}) or chardet ({}) doesn't match a supported \"\n"
     ]
    }
   ],
   "source": [
    "import os\n",
    "os.environ['TF_CPP_MIN_LOG_LEVEL'] = '3' \n",
    "\n",
    "import time\n",
    "import pprint\n",
    "\n",
    "%matplotlib inline\n",
    "import matplotlib.pyplot as plt\n",
    "\n",
    "import numpy as np\n",
    "import pandas as pd\n",
    "import tensorflow as tf\n",
    "\n",
    "import tensorflow_datasets as tfds\n",
    "import tensorflow_recommenders as tfrs\n",
    "\n",
    "from typing import Dict, Text\n",
    "\n",
    "from tqdm import tqdm\n",
    "tqdm.pandas()\n",
    "\n",
    "plt.style.use('seaborn-whitegrid')\n",
    "\n",
    "tf.compat.v1.logging.set_verbosity(tf.compat.v1.logging.ERROR)"
   ]
  },
  {
   "cell_type": "markdown",
   "id": "ae0967b7",
   "metadata": {},
   "source": [
    "### TO DO LIST:\n",
    "* ~Exclude existing candidate on scann~\n",
    "* Add gender feature (article gender and user gender)\n",
    "https://github.com/Wp-Zhang/H-M-Fashion-RecSys\n",
    "* "
   ]
  },
  {
   "cell_type": "markdown",
   "id": "24ba398a",
   "metadata": {},
   "source": [
    "## Data Preprocessing"
   ]
  },
  {
   "cell_type": "markdown",
   "id": "4a5a7b33",
   "metadata": {},
   "source": [
    "#### Load dataset"
   ]
  },
  {
   "cell_type": "code",
   "execution_count": 218,
   "id": "ebeb6d11",
   "metadata": {},
   "outputs": [],
   "source": [
    "# Set seed for reproducibility\n",
    "seed = 17\n",
    "tf.random.set_seed(seed)\n",
    "np.random.seed(seed)"
   ]
  },
  {
   "cell_type": "code",
   "execution_count": 231,
   "id": "e426694e",
   "metadata": {},
   "outputs": [],
   "source": [
    "article_df = pd.read_csv('dataset/articles.csv')\n",
    "article_df['article_id'] = article_df['article_id'].astype(str)\n",
    "article_df['article_id'] = article_df['article_id'].apply(lambda x: x.zfill(10))\n",
    "article_df.fillna(value='', inplace=True)\n",
    "\n",
    "customer_df = pd.read_csv('dataset/customers.csv')\n",
    "train_df = pd.read_csv('dataset/transactions_train.csv')\n",
    "\n",
    "train_df['article_id'] = train_df['article_id'].astype(str)\n",
    "train_df['article_id'] = train_df['article_id'].apply(lambda x: x.zfill(10))\n",
    "\n",
    "submission = pd.read_csv('dataset/sample_submission.csv')"
   ]
  },
  {
   "cell_type": "markdown",
   "id": "f0108641",
   "metadata": {},
   "source": [
    "#### Get top-N articles in date range"
   ]
  },
  {
   "cell_type": "code",
   "execution_count": 232,
   "id": "e304105a",
   "metadata": {},
   "outputs": [],
   "source": [
    "N = 500"
   ]
  },
  {
   "cell_type": "code",
   "execution_count": 233,
   "id": "5a546c3e",
   "metadata": {},
   "outputs": [],
   "source": [
    "train_df['t_dat'] = pd.to_datetime(train_df['t_dat'])"
   ]
  },
  {
   "cell_type": "code",
   "execution_count": 234,
   "id": "1740a48d",
   "metadata": {},
   "outputs": [],
   "source": [
    "train_df[\"season\"] = \"\"\n",
    "train_df.loc[train_df.t_dat.dt.month.between(1, 3), \"season\"] = \"spring\"\n",
    "train_df.loc[train_df.t_dat.dt.month.between(4, 6), \"season\"] = \"summer\"\n",
    "train_df.loc[train_df.t_dat.dt.month.between(7, 9), \"season\"] = \"fall\"\n",
    "train_df.loc[train_df.t_dat.dt.month.between(10, 12), \"season\"] = \"winter\""
   ]
  },
  {
   "cell_type": "code",
   "execution_count": 235,
   "id": "d524460c",
   "metadata": {},
   "outputs": [],
   "source": [
    "train_df[\"year\"] = train_df.t_dat.dt.year\n",
    "train_df[\"month\"] = train_df.t_dat.dt.month\n",
    "train_df[\"season_year\"] = train_df[\"season\"] + train_df[\"year\"].astype(str)"
   ]
  },
  {
   "cell_type": "code",
   "execution_count": 236,
   "id": "2a55e759",
   "metadata": {},
   "outputs": [],
   "source": [
    "transactions_fall2018 = train_df[train_df[\"season_year\"] == \"fall2018\"]\n",
    "transactions_fall2019 = train_df[train_df[\"season_year\"] == \"fall2019\"]\n",
    "transactions_fall2020 = train_df[train_df[\"season_year\"] == \"fall2020\"]"
   ]
  },
  {
   "cell_type": "code",
   "execution_count": 237,
   "id": "5417f70c",
   "metadata": {},
   "outputs": [],
   "source": [
    "def get_products_count_rank(df, N):\n",
    "    products_list = df.groupby(\"article_id\").size().to_frame(\"count\").sort_values(by=\"count\", ascending=False).\\\n",
    "    reset_index().head(N).article_id.to_list()\n",
    "    return products_list"
   ]
  },
  {
   "cell_type": "code",
   "execution_count": 238,
   "id": "3f2ec26a",
   "metadata": {},
   "outputs": [],
   "source": [
    "topN_fall2020 = get_products_count_rank(transactions_fall2020, N)"
   ]
  },
  {
   "cell_type": "markdown",
   "id": "ac5e49c0",
   "metadata": {},
   "source": [
    "#### Filter transaction by top articles"
   ]
  },
  {
   "cell_type": "code",
   "execution_count": 239,
   "id": "db5f2c91",
   "metadata": {},
   "outputs": [],
   "source": [
    "train_df = transactions_fall2020[transactions_fall2020.article_id.isin(topN_fall2020)]"
   ]
  },
  {
   "cell_type": "code",
   "execution_count": 240,
   "id": "a6bf43f7",
   "metadata": {},
   "outputs": [
    {
     "data": {
      "text/plain": [
       "273341"
      ]
     },
     "execution_count": 240,
     "metadata": {},
     "output_type": "execute_result"
    }
   ],
   "source": [
    "train_df.customer_id.nunique()"
   ]
  },
  {
   "cell_type": "code",
   "execution_count": 205,
   "id": "814575f8",
   "metadata": {},
   "outputs": [],
   "source": [
    "train_customer = train_df.customer_id.unique()"
   ]
  },
  {
   "cell_type": "markdown",
   "id": "97a51060",
   "metadata": {},
   "source": [
    "#### Gender feature"
   ]
  },
  {
   "cell_type": "code",
   "execution_count": 245,
   "id": "cbb9c3fe",
   "metadata": {},
   "outputs": [],
   "source": [
    "def set_gender_flg(x):\n",
    "            female_pro_types = [\n",
    "                \"Bra\",\n",
    "                \"Underwear Tights\",\n",
    "                \"Leggings/Tights\",\n",
    "                \"Hair clip\",\n",
    "                \"Hair string\",\n",
    "                \"Hair/alice band\",\n",
    "                \"Bikini top\",\n",
    "                \"Skirt\",\n",
    "                \"Dress\",\n",
    "                \"Earring\",\n",
    "                \"Alice band\",\n",
    "                \"Straw hat\",\n",
    "                \"Necklace\",\n",
    "                \"Ballerinas\",\n",
    "                \"Blouse\",\n",
    "                \"Beanie\",\n",
    "                \"Giftbox\",\n",
    "                \"Pumps\",\n",
    "                \"Bootie\",\n",
    "                \"Heeled sandals\",\n",
    "                \"Nipple covers\",\n",
    "                \"Hair ties\",\n",
    "                \"Underwear corset\",\n",
    "                \"Bra extender\",\n",
    "                \"Underdress\",\n",
    "                \"Underwear set\",\n",
    "                \"Sarong\",\n",
    "                \"Leg warmers\",\n",
    "                \"Hairband\",\n",
    "                \"Tote bag\",\n",
    "                \"Earrings\",\n",
    "                \"Flat shoes\",\n",
    "                \"Heels\",\n",
    "                \"Cap\",\n",
    "                \"Shoulder bag\",\n",
    "                \"Headband\",\n",
    "                \"Baby Bib\",\n",
    "                \"Cross-body bag\",\n",
    "                \"Bumbag\",\n",
    "            ]\n",
    "            x[\"article_gender\"] = 0  # * 0 for not divided, 1 for male, 2 for female\n",
    "            if x[\"index_group_name\"] == \"Ladieswear\":\n",
    "                x[\"article_gender\"] = 2\n",
    "            elif x[\"index_group_name\"] == \"Menswear\":\n",
    "                x[\"article_gender\"] = 1\n",
    "            else:\n",
    "                if (\n",
    "                    \"boy\" in x[\"department_name\"].lower()\n",
    "                    or \"men\" in x[\"department_name\"].lower()\n",
    "                ):\n",
    "                    x[\"article_gender\"] = 1\n",
    "                if (\n",
    "                    \"girl\" in x[\"department_name\"].lower()\n",
    "                    or \"ladies\" in x[\"department_name\"].lower()\n",
    "                    or x[\"product_type_name\"] in female_pro_types\n",
    "                ):\n",
    "                    x[\"article_gender\"] = 2\n",
    "            return x"
   ]
  },
  {
   "cell_type": "code",
   "execution_count": 246,
   "id": "db25278e",
   "metadata": {},
   "outputs": [
    {
     "name": "stderr",
     "output_type": "stream",
     "text": [
      "100%|█████████████████████████████████| 105542/105542 [00:47<00:00, 2229.31it/s]\n"
     ]
    }
   ],
   "source": [
    "article_df = article_df.progress_apply(set_gender_flg, axis=1)"
   ]
  },
  {
   "cell_type": "code",
   "execution_count": 247,
   "id": "6e85d232",
   "metadata": {},
   "outputs": [],
   "source": [
    "train_df = pd.merge(\n",
    "            train_df,\n",
    "            article_df[[\"article_id\", \"article_gender\"]],\n",
    "            on=\"article_id\",\n",
    "            how=\"left\",\n",
    "        )"
   ]
  },
  {
   "cell_type": "code",
   "execution_count": 249,
   "id": "8d1629da",
   "metadata": {},
   "outputs": [],
   "source": [
    "user = customer_df[['customer_id']]"
   ]
  },
  {
   "cell_type": "code",
   "execution_count": 250,
   "id": "1bd02dc7",
   "metadata": {},
   "outputs": [],
   "source": [
    "ttl_cnt = train_df.groupby([\"customer_id\"]).size().reset_index(name=\"ttl_cnt\")\n",
    "gender_sale = (\n",
    "    train_df.groupby([\"customer_id\", \"article_gender\"])\n",
    "    .size()\n",
    "    .reset_index(name=\"cnt\")\n",
    ")\n",
    "gender_sale = gender_sale.merge(ttl_cnt, on=[\"customer_id\"], how=\"left\")\n",
    "gender_sale[\"ratio\"] = gender_sale[\"cnt\"] / gender_sale[\"ttl_cnt\"]\n",
    "gender_sale = pd.pivot_table(\n",
    "    gender_sale, values=\"ratio\", index=\"customer_id\", columns=[\"article_gender\"]\n",
    ")\n",
    "gender_sale = gender_sale.reset_index()\n",
    "gender_sale[\"user_gender\"] = 0\n",
    "gender_sale.loc[gender_sale[1] >= 0.8, \"user_gender\"] = 1  # * male\n",
    "gender_sale.loc[gender_sale[2] >= 0.8, \"user_gender\"] = 2  # * female\n",
    "user = user.merge(\n",
    "    gender_sale[[\"customer_id\", \"user_gender\"]], on=\"customer_id\", how=\"left\"\n",
    ")\n",
    "user[\"user_gender\"] = user[\"user_gender\"].fillna(0)"
   ]
  },
  {
   "cell_type": "code",
   "execution_count": 253,
   "id": "fc0735f6",
   "metadata": {},
   "outputs": [],
   "source": [
    "train_df = pd.merge(\n",
    "            train_df,\n",
    "            user[[\"customer_id\", \"user_gender\"]],\n",
    "            on=\"customer_id\",\n",
    "            how=\"left\",\n",
    "                )"
   ]
  },
  {
   "cell_type": "code",
   "execution_count": 264,
   "id": "780aaa5a",
   "metadata": {},
   "outputs": [
    {
     "data": {
      "text/plain": [
       "2.0    483377\n",
       "0.0    216611\n",
       "1.0      5122\n",
       "Name: user_gender, dtype: int64"
      ]
     },
     "execution_count": 264,
     "metadata": {},
     "output_type": "execute_result"
    }
   ],
   "source": [
    "train_df.user_gender.value_counts()"
   ]
  },
  {
   "cell_type": "code",
   "execution_count": 260,
   "id": "bff6d5d6",
   "metadata": {},
   "outputs": [
    {
     "data": {
      "text/plain": [
       "t_dat               datetime64[ns]\n",
       "customer_id                 object\n",
       "article_id                  object\n",
       "price                      float64\n",
       "sales_channel_id             int64\n",
       "season                      object\n",
       "year                         int64\n",
       "month                        int64\n",
       "season_year                 object\n",
       "article_gender               int64\n",
       "user_gender                  int64\n",
       "dtype: object"
      ]
     },
     "execution_count": 260,
     "metadata": {},
     "output_type": "execute_result"
    }
   ],
   "source": [
    "train_df.astype({'user_gender': 'int64'}).dtypes"
   ]
  },
  {
   "cell_type": "code",
   "execution_count": 492,
   "id": "671651e1",
   "metadata": {},
   "outputs": [
    {
     "data": {
      "text/html": [
       "<div>\n",
       "<style scoped>\n",
       "    .dataframe tbody tr th:only-of-type {\n",
       "        vertical-align: middle;\n",
       "    }\n",
       "\n",
       "    .dataframe tbody tr th {\n",
       "        vertical-align: top;\n",
       "    }\n",
       "\n",
       "    .dataframe thead th {\n",
       "        text-align: right;\n",
       "    }\n",
       "</style>\n",
       "<table border=\"1\" class=\"dataframe\">\n",
       "  <thead>\n",
       "    <tr style=\"text-align: right;\">\n",
       "      <th></th>\n",
       "      <th>t_dat</th>\n",
       "      <th>customer_id</th>\n",
       "      <th>article_id</th>\n",
       "      <th>price</th>\n",
       "      <th>sales_channel_id</th>\n",
       "      <th>season</th>\n",
       "      <th>year</th>\n",
       "      <th>month</th>\n",
       "      <th>season_year</th>\n",
       "      <th>article_gender</th>\n",
       "      <th>user_gender</th>\n",
       "      <th>prod_name</th>\n",
       "    </tr>\n",
       "  </thead>\n",
       "  <tbody>\n",
       "    <tr>\n",
       "      <th>0</th>\n",
       "      <td>1.593562e+09</td>\n",
       "      <td>000ce5da167c6c8dfaea6dfc4b59a5ea3217630ec36cfc...</td>\n",
       "      <td>0559616013</td>\n",
       "      <td>0.021593</td>\n",
       "      <td>2</td>\n",
       "      <td>fall</td>\n",
       "      <td>2020</td>\n",
       "      <td>7</td>\n",
       "      <td>fall2020</td>\n",
       "      <td>2</td>\n",
       "      <td>2.0</td>\n",
       "      <td>Timeless Push Triangle(1)</td>\n",
       "    </tr>\n",
       "    <tr>\n",
       "      <th>1</th>\n",
       "      <td>1.593562e+09</td>\n",
       "      <td>000ce5da167c6c8dfaea6dfc4b59a5ea3217630ec36cfc...</td>\n",
       "      <td>0559616013</td>\n",
       "      <td>0.025407</td>\n",
       "      <td>2</td>\n",
       "      <td>fall</td>\n",
       "      <td>2020</td>\n",
       "      <td>7</td>\n",
       "      <td>fall2020</td>\n",
       "      <td>2</td>\n",
       "      <td>2.0</td>\n",
       "      <td>Timeless Push Triangle(1)</td>\n",
       "    </tr>\n",
       "    <tr>\n",
       "      <th>2</th>\n",
       "      <td>1.593562e+09</td>\n",
       "      <td>000ce5da167c6c8dfaea6dfc4b59a5ea3217630ec36cfc...</td>\n",
       "      <td>0566140001</td>\n",
       "      <td>0.016932</td>\n",
       "      <td>2</td>\n",
       "      <td>fall</td>\n",
       "      <td>2020</td>\n",
       "      <td>7</td>\n",
       "      <td>fall2020</td>\n",
       "      <td>2</td>\n",
       "      <td>2.0</td>\n",
       "      <td>Timeless Tie Tanga</td>\n",
       "    </tr>\n",
       "    <tr>\n",
       "      <th>3</th>\n",
       "      <td>1.593562e+09</td>\n",
       "      <td>000fb6e772c5d0023892065e659963da90b1866035558e...</td>\n",
       "      <td>0907696002</td>\n",
       "      <td>0.016932</td>\n",
       "      <td>2</td>\n",
       "      <td>fall</td>\n",
       "      <td>2020</td>\n",
       "      <td>7</td>\n",
       "      <td>fall2020</td>\n",
       "      <td>2</td>\n",
       "      <td>2.0</td>\n",
       "      <td>Jinny smock top</td>\n",
       "    </tr>\n",
       "    <tr>\n",
       "      <th>4</th>\n",
       "      <td>1.593562e+09</td>\n",
       "      <td>00263c043933b458dfdee2816b23387b1307fc39c8e0db...</td>\n",
       "      <td>0610776074</td>\n",
       "      <td>0.008458</td>\n",
       "      <td>1</td>\n",
       "      <td>fall</td>\n",
       "      <td>2020</td>\n",
       "      <td>7</td>\n",
       "      <td>fall2020</td>\n",
       "      <td>2</td>\n",
       "      <td>0.0</td>\n",
       "      <td>Tilly (1)</td>\n",
       "    </tr>\n",
       "  </tbody>\n",
       "</table>\n",
       "</div>"
      ],
      "text/plain": [
       "          t_dat                                        customer_id  \\\n",
       "0  1.593562e+09  000ce5da167c6c8dfaea6dfc4b59a5ea3217630ec36cfc...   \n",
       "1  1.593562e+09  000ce5da167c6c8dfaea6dfc4b59a5ea3217630ec36cfc...   \n",
       "2  1.593562e+09  000ce5da167c6c8dfaea6dfc4b59a5ea3217630ec36cfc...   \n",
       "3  1.593562e+09  000fb6e772c5d0023892065e659963da90b1866035558e...   \n",
       "4  1.593562e+09  00263c043933b458dfdee2816b23387b1307fc39c8e0db...   \n",
       "\n",
       "   article_id     price  sales_channel_id season  year  month season_year  \\\n",
       "0  0559616013  0.021593                 2   fall  2020      7    fall2020   \n",
       "1  0559616013  0.025407                 2   fall  2020      7    fall2020   \n",
       "2  0566140001  0.016932                 2   fall  2020      7    fall2020   \n",
       "3  0907696002  0.016932                 2   fall  2020      7    fall2020   \n",
       "4  0610776074  0.008458                 1   fall  2020      7    fall2020   \n",
       "\n",
       "   article_gender  user_gender                  prod_name  \n",
       "0               2          2.0  Timeless Push Triangle(1)  \n",
       "1               2          2.0  Timeless Push Triangle(1)  \n",
       "2               2          2.0         Timeless Tie Tanga  \n",
       "3               2          2.0            Jinny smock top  \n",
       "4               2          0.0                  Tilly (1)  "
      ]
     },
     "execution_count": 492,
     "metadata": {},
     "output_type": "execute_result"
    }
   ],
   "source": [
    "train_df.head()"
   ]
  },
  {
   "cell_type": "markdown",
   "id": "6c83e07f",
   "metadata": {},
   "source": [
    "#### Get top-12 articles for cold-start user"
   ]
  },
  {
   "cell_type": "code",
   "execution_count": 19,
   "id": "99429851",
   "metadata": {},
   "outputs": [],
   "source": [
    "trans_sept2020 = transactions_fall2020[transactions_fall2020.month == 9]"
   ]
  },
  {
   "cell_type": "code",
   "execution_count": 21,
   "id": "296773d5",
   "metadata": {},
   "outputs": [],
   "source": [
    "top12_sept2020 = trans_sept2020.groupby(\"article_id\").size().to_frame(\"trans_count\").\\\n",
    "sort_values(by=\"trans_count\", ascending=False).head(12).reset_index().article_id.tolist()"
   ]
  },
  {
   "cell_type": "code",
   "execution_count": 26,
   "id": "432baedf",
   "metadata": {},
   "outputs": [],
   "source": [
    "submission = pd.read_csv('dataset/sample_submission.csv')"
   ]
  },
  {
   "cell_type": "code",
   "execution_count": 30,
   "id": "a6d355b7",
   "metadata": {},
   "outputs": [],
   "source": [
    "submission[\"prediction\"] = \" \".join([x for x in top12_sept2020])"
   ]
  },
  {
   "cell_type": "code",
   "execution_count": 40,
   "id": "e737296a",
   "metadata": {},
   "outputs": [
    {
     "data": {
      "text/html": [
       "<div>\n",
       "<style scoped>\n",
       "    .dataframe tbody tr th:only-of-type {\n",
       "        vertical-align: middle;\n",
       "    }\n",
       "\n",
       "    .dataframe tbody tr th {\n",
       "        vertical-align: top;\n",
       "    }\n",
       "\n",
       "    .dataframe thead th {\n",
       "        text-align: right;\n",
       "    }\n",
       "</style>\n",
       "<table border=\"1\" class=\"dataframe\">\n",
       "  <thead>\n",
       "    <tr style=\"text-align: right;\">\n",
       "      <th></th>\n",
       "      <th>customer_id</th>\n",
       "      <th>prediction</th>\n",
       "    </tr>\n",
       "  </thead>\n",
       "  <tbody>\n",
       "    <tr>\n",
       "      <th>0</th>\n",
       "      <td>00000dbacae5abe5e23885899a1fa44253a17956c6d1c3...</td>\n",
       "      <td>0751471001 0909370001 0918522001 0924243001 09...</td>\n",
       "    </tr>\n",
       "  </tbody>\n",
       "</table>\n",
       "</div>"
      ],
      "text/plain": [
       "                                         customer_id  \\\n",
       "0  00000dbacae5abe5e23885899a1fa44253a17956c6d1c3...   \n",
       "\n",
       "                                          prediction  \n",
       "0  0751471001 0909370001 0918522001 0924243001 09...  "
      ]
     },
     "execution_count": 40,
     "metadata": {},
     "output_type": "execute_result"
    }
   ],
   "source": [
    "submission.head(1)"
   ]
  },
  {
   "cell_type": "code",
   "execution_count": 32,
   "id": "ab70d6d3",
   "metadata": {},
   "outputs": [],
   "source": [
    "submission.to_csv(\"top12_sept2020.csv\", index=False)"
   ]
  },
  {
   "cell_type": "markdown",
   "id": "0a8bf422",
   "metadata": {},
   "source": [
    "#### Use unix timestamp"
   ]
  },
  {
   "cell_type": "code",
   "execution_count": 266,
   "id": "c8e9632e",
   "metadata": {
    "scrolled": true
   },
   "outputs": [],
   "source": [
    "train_df['t_dat'] = train_df['t_dat'].values.astype(int) / 10**9"
   ]
  },
  {
   "cell_type": "code",
   "execution_count": 269,
   "id": "75d9281d",
   "metadata": {},
   "outputs": [],
   "source": [
    "article_map = dict(article_df[['article_id', 'prod_name']].values)"
   ]
  },
  {
   "cell_type": "code",
   "execution_count": 270,
   "id": "aedf5623",
   "metadata": {
    "scrolled": true
   },
   "outputs": [],
   "source": [
    "train_df['prod_name'] = train_df.article_id.map(article_map)"
   ]
  },
  {
   "cell_type": "code",
   "execution_count": 271,
   "id": "77646453",
   "metadata": {},
   "outputs": [
    {
     "data": {
      "text/plain": [
       "['0559616013', '0559616013', '0566140001', '0721990006', '0559616013']"
      ]
     },
     "execution_count": 271,
     "metadata": {},
     "output_type": "execute_result"
    }
   ],
   "source": [
    "list(train_df.loc[train_df['customer_id'] == '000ce5da167c6c8dfaea6dfc4b59a5ea3217630ec36cfcdfac7615808334aea0'].article_id)"
   ]
  },
  {
   "cell_type": "code",
   "execution_count": 493,
   "id": "aebe726a",
   "metadata": {},
   "outputs": [],
   "source": [
    "articles = tf.data.Dataset.from_tensor_slices(dict(article_df)).map(lambda x: {\n",
    "    'article_id' : x['article_id'],\n",
    "    'article_gender' : x['article_gender'],\n",
    "#     'prod_name' : x['prod_name'],\n",
    "})\n",
    "\n",
    "trans = tf.data.Dataset.from_tensor_slices(dict(train_df)).map(lambda x: {\n",
    "    'customer_id' : x['customer_id'],\n",
    "    'user_gender' : x['user_gender'],\n",
    "    'article_id' : x['article_id'],\n",
    "    'article_gender' : x['article_gender'],\n",
    "#     'prod_name' : x['prod_name'],\n",
    "#     't_dat' : x['t_dat'],\n",
    "})"
   ]
  },
  {
   "cell_type": "markdown",
   "id": "d1da9b06",
   "metadata": {},
   "source": [
    "#### Features Preprocessing"
   ]
  },
  {
   "cell_type": "code",
   "execution_count": 481,
   "id": "6550589a",
   "metadata": {},
   "outputs": [],
   "source": [
    "# ### Timestamp bucket\n",
    "# timestamps = np.concatenate(list(trans.map(lambda x: x[\"t_dat\"]).batch(100)))\n",
    "\n",
    "# max_timestamp = timestamps.max()\n",
    "# min_timestamp = timestamps.min()\n",
    "\n",
    "# timestamp_buckets = np.linspace(\n",
    "#     min_timestamp, max_timestamp, num=1000,\n",
    "# )"
   ]
  },
  {
   "cell_type": "code",
   "execution_count": 482,
   "id": "1076326c",
   "metadata": {},
   "outputs": [],
   "source": [
    "### Get article and customer vocabulary\n",
    "article_ids = articles.map(lambda x: x['article_id']).batch(1_000)\n",
    "unique_article_ids = np.unique(np.concatenate(list(article_ids)))\n",
    "\n",
    "customer_ids = trans.map(lambda x: x['customer_id']).batch(1_000)\n",
    "unique_customer_ids = np.unique(np.concatenate(list(customer_ids)))"
   ]
  },
  {
   "cell_type": "markdown",
   "id": "d37f4609",
   "metadata": {},
   "source": [
    "## Two-tower Model"
   ]
  },
  {
   "cell_type": "code",
   "execution_count": 494,
   "id": "b019d1ea",
   "metadata": {},
   "outputs": [],
   "source": [
    "class CustomerModel(tf.keras.Model):\n",
    "  def __init__(self, use_timestamps):\n",
    "    super().__init__()\n",
    "\n",
    "    self._use_timestamps = use_timestamps\n",
    "    \n",
    "    embedding_dim = 32\n",
    "    \n",
    "    self.user_embedding = tf.keras.Sequential([\n",
    "        tf.keras.layers.StringLookup(\n",
    "            vocabulary=unique_customer_ids, mask_token=None),\n",
    "        tf.keras.layers.Embedding(len(unique_customer_ids) + 1, embedding_dim),\n",
    "    ])\n",
    "    \n",
    "    self.gender_embedding = tf.keras.Sequential([\n",
    "        tf.keras.layers.Embedding(3 + 1, embedding_dim)\n",
    "    ])\n",
    "\n",
    "    if use_timestamps:\n",
    "      self.timestamp_embedding = tf.keras.Sequential([\n",
    "          tf.keras.layers.Discretization(timestamp_buckets.tolist()),\n",
    "          tf.keras.layers.Embedding(len(timestamp_buckets) + 1, embedding_dim),\n",
    "      ])\n",
    "      self.normalized_timestamp = tf.keras.layers.Normalization(\n",
    "          axis=None\n",
    "      )\n",
    "\n",
    "      self.normalized_timestamp.adapt(timestamps)\n",
    "\n",
    "  def call(self, inputs):\n",
    "    if not self._use_timestamps:\n",
    "        return tf.concat([\n",
    "            self.user_embedding(inputs[\"customer_id\"]),\n",
    "            self.gender_embedding(inputs[\"user_gender\"]),\n",
    "        ], axis=1)\n",
    "#         return self.user_embedding(inputs[\"customer_id\"])\n",
    "\n",
    "    return tf.concat([\n",
    "        self.user_embedding(inputs[\"customer_id\"]),\n",
    "        self.timestamp_embedding(inputs[\"t_dat\"]),\n",
    "        tf.reshape(self.normalized_timestamp(inputs[\"t_dat\"]), (-1, 1)),\n",
    "    ], axis=1)"
   ]
  },
  {
   "cell_type": "code",
   "execution_count": 503,
   "id": "1f161d50",
   "metadata": {},
   "outputs": [],
   "source": [
    "class ArticleModel(tf.keras.Model):\n",
    "\n",
    "  def __init__(self):\n",
    "    super().__init__()\n",
    "\n",
    "    max_tokens = 10_000\n",
    "    \n",
    "    embedding_dim = 32\n",
    "\n",
    "    self.article_id_embedding = tf.keras.Sequential([\n",
    "      tf.keras.layers.StringLookup(\n",
    "          vocabulary=unique_article_ids, mask_token=None),\n",
    "      tf.keras.layers.Embedding(len(unique_article_ids) + 1, embedding_dim)\n",
    "    ])\n",
    "    \n",
    "    self.gender_embedding = tf.keras.Sequential([\n",
    "        tf.keras.layers.Embedding(3 + 1, embedding_dim)\n",
    "    ])\n",
    "\n",
    "#     self.article_vectorizer = tf.keras.layers.TextVectorization(\n",
    "#         max_tokens=max_tokens)\n",
    "\n",
    "#     self.article_text_embedding = tf.keras.Sequential([\n",
    "#       self.article_vectorizer,\n",
    "#       tf.keras.layers.Embedding(max_tokens, embedding_dim, mask_zero=True),\n",
    "#       tf.keras.layers.GlobalAveragePooling1D(),\n",
    "#     ])\n",
    "\n",
    "#     self.article_vectorizer.adapt(articles.map(lambda x: x[\"prod_name\"]))\n",
    "\n",
    "  def call(self, inputs):\n",
    "    return tf.concat([\n",
    "        self.article_id_embedding(inputs[\"article_id\"]),\n",
    "        self.gender_embedding(inputs[\"article_gender\"]),\n",
    "#         self.article_text_embedding(inputs[\"prod_name\"]),\n",
    "    ], axis=1)"
   ]
  },
  {
   "cell_type": "code",
   "execution_count": 504,
   "id": "eb0e712c",
   "metadata": {},
   "outputs": [],
   "source": [
    "class HNMModel(tfrs.models.Model):\n",
    "\n",
    "  def __init__(self, use_timestamps):\n",
    "    super().__init__()\n",
    "    self.query_model = tf.keras.Sequential([\n",
    "      CustomerModel(use_timestamps),\n",
    "      tf.keras.layers.Dense(32)\n",
    "    ])\n",
    "    self.candidate_model = tf.keras.Sequential([\n",
    "      ArticleModel(),\n",
    "      tf.keras.layers.Dense(32)\n",
    "    ])\n",
    "\n",
    "    self.task = tfrs.tasks.Retrieval(\n",
    "        metrics=tfrs.metrics.FactorizedTopK(\n",
    "            candidates=articles.batch(128).map(self.candidate_model),\n",
    "        ),\n",
    "    )\n",
    "\n",
    "  def compute_loss(self, features, training=False):\n",
    "    query_embedding = self.query_model({\n",
    "        \"customer_id\": features[\"customer_id\"],\n",
    "        \"user_gender\": features[\"user_gender\"],\n",
    "    })\n",
    "    candidate_embedding = self.candidate_model({\n",
    "        \"article_id\": features[\"article_id\"],\n",
    "        \"article_gender\": features[\"article_gender\"],\n",
    "#         \"prod_name\": features[\"prod_name\"],\n",
    "    })\n",
    "\n",
    "    return self.task(query_embedding, candidate_embedding, compute_metrics=not training)"
   ]
  },
  {
   "cell_type": "markdown",
   "id": "5bf05746",
   "metadata": {},
   "source": [
    "## Model Training"
   ]
  },
  {
   "cell_type": "code",
   "execution_count": 505,
   "id": "4889e135",
   "metadata": {},
   "outputs": [],
   "source": [
    "EPOCHS = 1\n",
    "EVAL_FREQ = EPOCHS\n",
    "INIT_EPOCH = 0  # set to latest epoch when resuming from checkpoint"
   ]
  },
  {
   "cell_type": "code",
   "execution_count": 506,
   "id": "5982929f",
   "metadata": {},
   "outputs": [],
   "source": [
    "train_n = int(0.8 * train_df.shape[0])\n",
    "test_n = int(0.2 * train_df.shape[0])"
   ]
  },
  {
   "cell_type": "code",
   "execution_count": 507,
   "id": "0bf2fd9a",
   "metadata": {},
   "outputs": [
    {
     "data": {
      "text/plain": [
       "273341"
      ]
     },
     "execution_count": 507,
     "metadata": {},
     "output_type": "execute_result"
    }
   ],
   "source": [
    "train_df.customer_id.nunique()"
   ]
  },
  {
   "cell_type": "code",
   "execution_count": 508,
   "id": "a953bda7",
   "metadata": {},
   "outputs": [],
   "source": [
    "shuffled = trans.shuffle(train_df.shape[0], seed=seed, reshuffle_each_iteration=False)\n",
    "\n",
    "train = shuffled.take(train_n)\n",
    "test = shuffled.skip(train_n).take(test_n)\n",
    "\n",
    "cached_train = train.shuffle(train_n).batch(2048)\n",
    "cached_test = test.batch(4096).cache()"
   ]
  },
  {
   "cell_type": "code",
   "execution_count": 509,
   "id": "53134afd",
   "metadata": {},
   "outputs": [],
   "source": [
    "checkpoint_path = \"checkpoints/vanilla_1_random/cp-{epoch:04d}.ckpt\"\n",
    "checkpoint_dir = os.path.dirname(checkpoint_path)\n",
    "\n",
    "# Create a callback that saves the model's weights\n",
    "cp_callback = tf.keras.callbacks.ModelCheckpoint(\n",
    "    filepath=checkpoint_path,\n",
    "    save_weights_only=True,\n",
    "    verbose=1,\n",
    "    period=EVAL_FREQ)"
   ]
  },
  {
   "cell_type": "code",
   "execution_count": 510,
   "id": "c2ea8cfa",
   "metadata": {
    "scrolled": true
   },
   "outputs": [
    {
     "name": "stdout",
     "output_type": "stream",
     "text": [
      "275/276 [============================>.] - ETA: 0s - factorized_top_k/top_1_categorical_accuracy: 0.0000e+00 - factorized_top_k/top_5_categorical_accuracy: 0.0000e+00 - factorized_top_k/top_10_categorical_accuracy: 0.0000e+00 - factorized_top_k/top_50_categorical_accuracy: 0.0000e+00 - factorized_top_k/top_100_categorical_accuracy: 0.0000e+00 - loss: 14761.6756 - regularization_loss: 0.0000e+00 - total_loss: 14761.6756\n",
      "Epoch 1: saving model to checkpoints/vanilla_1_random/cp-0001.ckpt\n",
      "276/276 [==============================] - 16s 30ms/step - factorized_top_k/top_1_categorical_accuracy: 0.0000e+00 - factorized_top_k/top_5_categorical_accuracy: 0.0000e+00 - factorized_top_k/top_10_categorical_accuracy: 0.0000e+00 - factorized_top_k/top_50_categorical_accuracy: 0.0000e+00 - factorized_top_k/top_100_categorical_accuracy: 0.0000e+00 - loss: 14694.0510 - regularization_loss: 0.0000e+00 - total_loss: 14694.0510\n"
     ]
    }
   ],
   "source": [
    "# Load model\n",
    "model = HNMModel(use_timestamps=False)\n",
    "model.compile(optimizer=tf.keras.optimizers.Adagrad(0.1))\n",
    "\n",
    "if INIT_EPOCH > 0:\n",
    "    # Load trained model weights\n",
    "    latest = tf.train.latest_checkpoint(checkpoint_dir)\n",
    "    model.load_weights(latest)\n",
    "\n",
    "wo_timestamp_hist = model.fit(\n",
    "    cached_train,\n",
    "#     validation_data=cached_test,\n",
    "#     validation_freq=EVAL_FREQ,\n",
    "    epochs=EPOCHS,\n",
    "    initial_epoch=INIT_EPOCH,\n",
    "    callbacks=[cp_callback])"
   ]
  },
  {
   "cell_type": "code",
   "execution_count": 296,
   "id": "d21a3490",
   "metadata": {},
   "outputs": [],
   "source": [
    "# result = model.evaluate(cached_test, return_dict=True)\n",
    "# result"
   ]
  },
  {
   "cell_type": "markdown",
   "id": "2bfacc69",
   "metadata": {},
   "source": [
    "## Get Recommendation"
   ]
  },
  {
   "cell_type": "code",
   "execution_count": 409,
   "id": "ca6acea4",
   "metadata": {
    "scrolled": true
   },
   "outputs": [
    {
     "name": "stdout",
     "output_type": "stream",
     "text": [
      "Top 12 recommendations for user 40: [[b'0874754002' b'0556539001' b'0865929003' b'0903773001' b'0865917002'\n",
      "  b'0278811006' b'0778534004' b'0878013001' b'0873678003' b'0751592001'\n",
      "  b'0877273001' b'0863646004']]\n"
     ]
    }
   ],
   "source": [
    "# ### Simple query testing\n",
    "# index = tfrs.layers.factorized_top_k.BruteForce(model.query_model)\n",
    "\n",
    "# identifiers = articles.batch(100).map(lambda x: x['article_id'])\n",
    "# candidates = articles.batch(100).map(lambda x: model.candidate_model({\n",
    "#         'article_id': x['article_id'],\n",
    "#     }))\n",
    "\n",
    "# index.index_from_dataset(tf.data.Dataset.zip((identifiers, candidates)))\n",
    "\n",
    "# # test_query = dict(train_df[['customer_id',\n",
    "# #                            't_dat',\n",
    "# #                         ]].iloc[0].map(lambda x: tf.expand_dims(x, axis=0)))\n",
    "\n",
    "# test_query = {'customer_id' : tf.constant(['ffffd9ac14e89946416d80e791d064701994755c3ab686a1eaf3458c36f52241'])}\n",
    "\n",
    "# _, titles = index(test_query, k=12)\n",
    "# print(f\"Top 12 recommendations for user 40: {titles}\")"
   ]
  },
  {
   "cell_type": "code",
   "execution_count": 511,
   "id": "6dde5b77",
   "metadata": {},
   "outputs": [],
   "source": [
    "identifiers = articles.batch(100).map(lambda x: x['article_id'])\n",
    "\n",
    "candidates = articles.batch(100).map(lambda x: model.candidate_model({\n",
    "        'article_id': x['article_id'],\n",
    "        'article_gender' : x['article_gender'],\n",
    "    }))"
   ]
  },
  {
   "cell_type": "code",
   "execution_count": 512,
   "id": "7f56f06d",
   "metadata": {},
   "outputs": [
    {
     "name": "stderr",
     "output_type": "stream",
     "text": [
      "[libprotobuf WARNING external/com_google_protobuf/src/google/protobuf/text_format.cc:339] Warning parsing text-format research_scann.ScannConfig: 43:11: text format contains deprecated field \"min_cluster_size\"\n"
     ]
    },
    {
     "data": {
      "text/plain": [
       "<tensorflow_recommenders.layers.factorized_top_k.ScaNN at 0x7fe28dc3d370>"
      ]
     },
     "execution_count": 512,
     "metadata": {},
     "output_type": "execute_result"
    }
   ],
   "source": [
    "brute_force = tfrs.layers.factorized_top_k.BruteForce(model.query_model)\n",
    "brute_force.index_from_dataset(tf.data.Dataset.zip((identifiers, candidates)))\n",
    "\n",
    "scann = tfrs.layers.factorized_top_k.ScaNN(model.query_model, k=12)\n",
    "scann.index_from_dataset(tf.data.Dataset.zip((identifiers, candidates)))"
   ]
  },
  {
   "cell_type": "code",
   "execution_count": 532,
   "id": "013c17a5",
   "metadata": {},
   "outputs": [],
   "source": [
    "def get_rec(df):\n",
    "    MODE = 'bf'\n",
    "    EXCLUDE = False\n",
    "    COLD_START = False\n",
    "\n",
    "    SERVING = {'bf' : brute_force, 'scann' : scann}\n",
    "\n",
    "    query = {\n",
    "        'customer_id' : tf.constant([df['customer_id']]),\n",
    "        'user_gender' : tf.constant([df['user_gender']])\n",
    "    }\n",
    "\n",
    "    if COLD_START:\n",
    "        if not df['in_train']:\n",
    "            article_str = \" \".join([str(x) for x in top12_sept2020])\n",
    "        else:\n",
    "            if not(EXCLUDE):\n",
    "                _, recs = SERVING[MODE](query, k=12)\n",
    "            else:\n",
    "                _, recs = SERVING[MODE].query_with_exclusions(query, k=12, exclusions=tf.constant([known_articles]))\n",
    "            article_str = \" \".join([str(x) for x in recs.numpy()[0].astype(str)])\n",
    "    else:\n",
    "        if not(EXCLUDE):\n",
    "                _, recs = SERVING[MODE](query, k=12)\n",
    "        else:\n",
    "            _, recs = SERVING[MODE].query_with_exclusions(query, k=12, exclusions=tf.constant([known_articles]))\n",
    "        article_str = \" \".join([str(x) for x in recs.numpy()[0].astype(str)])\n",
    "    return article_str"
   ]
  },
  {
   "cell_type": "markdown",
   "id": "ef46231f",
   "metadata": {},
   "source": [
    "#### Generate customer-known articles pairs"
   ]
  },
  {
   "cell_type": "code",
   "execution_count": 514,
   "id": "cda0d7da",
   "metadata": {},
   "outputs": [],
   "source": [
    "t_df = train_df[['customer_id', 'article_id']]"
   ]
  },
  {
   "cell_type": "code",
   "execution_count": 515,
   "id": "e136d783",
   "metadata": {},
   "outputs": [
    {
     "data": {
      "text/plain": [
       "705110"
      ]
     },
     "execution_count": 515,
     "metadata": {},
     "output_type": "execute_result"
    }
   ],
   "source": [
    "t_df.shape[0]"
   ]
  },
  {
   "cell_type": "code",
   "execution_count": 516,
   "id": "b7663dd0",
   "metadata": {},
   "outputs": [],
   "source": [
    "known_df = t_df.groupby('customer_id')['article_id'].apply(list).reset_index(name='known_articles')"
   ]
  },
  {
   "cell_type": "code",
   "execution_count": 517,
   "id": "bd87cc52",
   "metadata": {
    "scrolled": true
   },
   "outputs": [
    {
     "data": {
      "text/html": [
       "<div>\n",
       "<style scoped>\n",
       "    .dataframe tbody tr th:only-of-type {\n",
       "        vertical-align: middle;\n",
       "    }\n",
       "\n",
       "    .dataframe tbody tr th {\n",
       "        vertical-align: top;\n",
       "    }\n",
       "\n",
       "    .dataframe thead th {\n",
       "        text-align: right;\n",
       "    }\n",
       "</style>\n",
       "<table border=\"1\" class=\"dataframe\">\n",
       "  <thead>\n",
       "    <tr style=\"text-align: right;\">\n",
       "      <th></th>\n",
       "      <th>customer_id</th>\n",
       "      <th>known_articles</th>\n",
       "    </tr>\n",
       "  </thead>\n",
       "  <tbody>\n",
       "    <tr>\n",
       "      <th>0</th>\n",
       "      <td>00006413d8573cd20ed7128e53b7b13819fe5cfc2d801f...</td>\n",
       "      <td>[0896152002, 0730683050, 0791587015]</td>\n",
       "    </tr>\n",
       "    <tr>\n",
       "      <th>1</th>\n",
       "      <td>0000757967448a6cb83efb3ea7a3fb9d418ac7adf2379d...</td>\n",
       "      <td>[0448509014]</td>\n",
       "    </tr>\n",
       "    <tr>\n",
       "      <th>2</th>\n",
       "      <td>0000945f66de1a11d9447609b8b41b1bc987ba185a5496...</td>\n",
       "      <td>[0760084003]</td>\n",
       "    </tr>\n",
       "    <tr>\n",
       "      <th>3</th>\n",
       "      <td>00009d946eec3ea54add5ba56d5210ea898def4b46c685...</td>\n",
       "      <td>[0884319008, 0921226001, 0706016001, 0516859008]</td>\n",
       "    </tr>\n",
       "    <tr>\n",
       "      <th>4</th>\n",
       "      <td>0000b2f1829e23b24feec422ef13df3ccedaedc85368e6...</td>\n",
       "      <td>[0706016038, 0914441005, 0706016015]</td>\n",
       "    </tr>\n",
       "  </tbody>\n",
       "</table>\n",
       "</div>"
      ],
      "text/plain": [
       "                                         customer_id  \\\n",
       "0  00006413d8573cd20ed7128e53b7b13819fe5cfc2d801f...   \n",
       "1  0000757967448a6cb83efb3ea7a3fb9d418ac7adf2379d...   \n",
       "2  0000945f66de1a11d9447609b8b41b1bc987ba185a5496...   \n",
       "3  00009d946eec3ea54add5ba56d5210ea898def4b46c685...   \n",
       "4  0000b2f1829e23b24feec422ef13df3ccedaedc85368e6...   \n",
       "\n",
       "                                     known_articles  \n",
       "0              [0896152002, 0730683050, 0791587015]  \n",
       "1                                      [0448509014]  \n",
       "2                                      [0760084003]  \n",
       "3  [0884319008, 0921226001, 0706016001, 0516859008]  \n",
       "4              [0706016038, 0914441005, 0706016015]  "
      ]
     },
     "execution_count": 517,
     "metadata": {},
     "output_type": "execute_result"
    }
   ],
   "source": [
    "known_df.head()"
   ]
  },
  {
   "cell_type": "markdown",
   "id": "6d90830b",
   "metadata": {},
   "source": [
    "#### If customer in train"
   ]
  },
  {
   "cell_type": "code",
   "execution_count": 533,
   "id": "75cfadb4",
   "metadata": {},
   "outputs": [],
   "source": [
    "pred_df = customer_df[['customer_id']]"
   ]
  },
  {
   "cell_type": "code",
   "execution_count": 534,
   "id": "476a2c67",
   "metadata": {},
   "outputs": [
    {
     "name": "stderr",
     "output_type": "stream",
     "text": [
      "/home/iftikar/.local/lib/python3.8/site-packages/pandas/core/indexing.py:1684: SettingWithCopyWarning: \n",
      "A value is trying to be set on a copy of a slice from a DataFrame.\n",
      "Try using .loc[row_indexer,col_indexer] = value instead\n",
      "\n",
      "See the caveats in the documentation: https://pandas.pydata.org/pandas-docs/stable/user_guide/indexing.html#returning-a-view-versus-a-copy\n",
      "  self.obj[key] = infer_fill_value(value)\n",
      "/home/iftikar/.local/lib/python3.8/site-packages/pandas/core/indexing.py:1817: SettingWithCopyWarning: \n",
      "A value is trying to be set on a copy of a slice from a DataFrame.\n",
      "Try using .loc[row_indexer,col_indexer] = value instead\n",
      "\n",
      "See the caveats in the documentation: https://pandas.pydata.org/pandas-docs/stable/user_guide/indexing.html#returning-a-view-versus-a-copy\n",
      "  self._setitem_single_column(loc, value, pi)\n"
     ]
    }
   ],
   "source": [
    "pred_df.loc[pred_df['customer_id'].isin(train_customer), 'in_train'] = True"
   ]
  },
  {
   "cell_type": "markdown",
   "id": "372b5576",
   "metadata": {},
   "source": [
    "#### Generate submission"
   ]
  },
  {
   "cell_type": "code",
   "execution_count": 535,
   "id": "8c7067fd",
   "metadata": {},
   "outputs": [],
   "source": [
    "# ### Merge sample submission and known articles\n",
    "# pred_df = pred_df.merge(known_df, how='left', on='customer_id')"
   ]
  },
  {
   "cell_type": "code",
   "execution_count": 536,
   "id": "9ddb39e8",
   "metadata": {},
   "outputs": [],
   "source": [
    "pred_df = pd.merge(\n",
    "            pred_df,\n",
    "            user[[\"customer_id\", \"user_gender\"]],\n",
    "            on=\"customer_id\",\n",
    "            how=\"left\",\n",
    "                )"
   ]
  },
  {
   "cell_type": "code",
   "execution_count": 537,
   "id": "7db1cef5",
   "metadata": {},
   "outputs": [],
   "source": [
    "pred_df.in_train.fillna(value=False, inplace=True)"
   ]
  },
  {
   "cell_type": "code",
   "execution_count": 538,
   "id": "9652aea2",
   "metadata": {},
   "outputs": [
    {
     "data": {
      "text/html": [
       "<div>\n",
       "<style scoped>\n",
       "    .dataframe tbody tr th:only-of-type {\n",
       "        vertical-align: middle;\n",
       "    }\n",
       "\n",
       "    .dataframe tbody tr th {\n",
       "        vertical-align: top;\n",
       "    }\n",
       "\n",
       "    .dataframe thead th {\n",
       "        text-align: right;\n",
       "    }\n",
       "</style>\n",
       "<table border=\"1\" class=\"dataframe\">\n",
       "  <thead>\n",
       "    <tr style=\"text-align: right;\">\n",
       "      <th></th>\n",
       "      <th>customer_id</th>\n",
       "      <th>in_train</th>\n",
       "      <th>user_gender</th>\n",
       "    </tr>\n",
       "  </thead>\n",
       "  <tbody>\n",
       "    <tr>\n",
       "      <th>0</th>\n",
       "      <td>00000dbacae5abe5e23885899a1fa44253a17956c6d1c3...</td>\n",
       "      <td>False</td>\n",
       "      <td>0.0</td>\n",
       "    </tr>\n",
       "    <tr>\n",
       "      <th>1</th>\n",
       "      <td>0000423b00ade91418cceaf3b26c6af3dd342b51fd051e...</td>\n",
       "      <td>False</td>\n",
       "      <td>0.0</td>\n",
       "    </tr>\n",
       "    <tr>\n",
       "      <th>2</th>\n",
       "      <td>000058a12d5b43e67d225668fa1f8d618c13dc232df0ca...</td>\n",
       "      <td>False</td>\n",
       "      <td>0.0</td>\n",
       "    </tr>\n",
       "    <tr>\n",
       "      <th>3</th>\n",
       "      <td>00005ca1c9ed5f5146b52ac8639a40ca9d57aeff4d1bd2...</td>\n",
       "      <td>False</td>\n",
       "      <td>0.0</td>\n",
       "    </tr>\n",
       "    <tr>\n",
       "      <th>4</th>\n",
       "      <td>00006413d8573cd20ed7128e53b7b13819fe5cfc2d801f...</td>\n",
       "      <td>True</td>\n",
       "      <td>2.0</td>\n",
       "    </tr>\n",
       "  </tbody>\n",
       "</table>\n",
       "</div>"
      ],
      "text/plain": [
       "                                         customer_id  in_train  user_gender\n",
       "0  00000dbacae5abe5e23885899a1fa44253a17956c6d1c3...     False          0.0\n",
       "1  0000423b00ade91418cceaf3b26c6af3dd342b51fd051e...     False          0.0\n",
       "2  000058a12d5b43e67d225668fa1f8d618c13dc232df0ca...     False          0.0\n",
       "3  00005ca1c9ed5f5146b52ac8639a40ca9d57aeff4d1bd2...     False          0.0\n",
       "4  00006413d8573cd20ed7128e53b7b13819fe5cfc2d801f...      True          2.0"
      ]
     },
     "execution_count": 538,
     "metadata": {},
     "output_type": "execute_result"
    }
   ],
   "source": [
    "pred_df.head()"
   ]
  },
  {
   "cell_type": "code",
   "execution_count": 539,
   "id": "141e1e61",
   "metadata": {},
   "outputs": [
    {
     "data": {
      "text/plain": [
       "False    1098639\n",
       "True      273341\n",
       "Name: in_train, dtype: int64"
      ]
     },
     "execution_count": 539,
     "metadata": {},
     "output_type": "execute_result"
    }
   ],
   "source": [
    "pred_df.in_train.value_counts()"
   ]
  },
  {
   "cell_type": "code",
   "execution_count": 540,
   "id": "f27af4af",
   "metadata": {
    "scrolled": true
   },
   "outputs": [
    {
     "name": "stderr",
     "output_type": "stream",
     "text": [
      "100%|██████████████████████████████| 1371980/1371980 [1:35:11<00:00, 240.20it/s]\n"
     ]
    }
   ],
   "source": [
    "pred_df['prediction'] = pred_df.progress_apply(get_rec, axis=1)"
   ]
  },
  {
   "cell_type": "code",
   "execution_count": 547,
   "id": "026053a0",
   "metadata": {},
   "outputs": [
    {
     "data": {
      "text/html": [
       "<div>\n",
       "<style scoped>\n",
       "    .dataframe tbody tr th:only-of-type {\n",
       "        vertical-align: middle;\n",
       "    }\n",
       "\n",
       "    .dataframe tbody tr th {\n",
       "        vertical-align: top;\n",
       "    }\n",
       "\n",
       "    .dataframe thead th {\n",
       "        text-align: right;\n",
       "    }\n",
       "</style>\n",
       "<table border=\"1\" class=\"dataframe\">\n",
       "  <thead>\n",
       "    <tr style=\"text-align: right;\">\n",
       "      <th></th>\n",
       "      <th>customer_id</th>\n",
       "      <th>prediction</th>\n",
       "    </tr>\n",
       "  </thead>\n",
       "  <tbody>\n",
       "    <tr>\n",
       "      <th>0</th>\n",
       "      <td>00000dbacae5abe5e23885899a1fa44253a17956c6d1c3...</td>\n",
       "      <td>0640021019 0640021011 0448509014 0914441004 08...</td>\n",
       "    </tr>\n",
       "    <tr>\n",
       "      <th>1</th>\n",
       "      <td>0000423b00ade91418cceaf3b26c6af3dd342b51fd051e...</td>\n",
       "      <td>0640021019 0640021011 0448509014 0914441004 08...</td>\n",
       "    </tr>\n",
       "    <tr>\n",
       "      <th>2</th>\n",
       "      <td>000058a12d5b43e67d225668fa1f8d618c13dc232df0ca...</td>\n",
       "      <td>0640021019 0640021011 0448509014 0914441004 08...</td>\n",
       "    </tr>\n",
       "    <tr>\n",
       "      <th>3</th>\n",
       "      <td>00005ca1c9ed5f5146b52ac8639a40ca9d57aeff4d1bd2...</td>\n",
       "      <td>0640021019 0640021011 0448509014 0914441004 08...</td>\n",
       "    </tr>\n",
       "    <tr>\n",
       "      <th>4</th>\n",
       "      <td>00006413d8573cd20ed7128e53b7b13819fe5cfc2d801f...</td>\n",
       "      <td>0896152001 0896152002 0925404001 0910601001 08...</td>\n",
       "    </tr>\n",
       "  </tbody>\n",
       "</table>\n",
       "</div>"
      ],
      "text/plain": [
       "                                         customer_id  \\\n",
       "0  00000dbacae5abe5e23885899a1fa44253a17956c6d1c3...   \n",
       "1  0000423b00ade91418cceaf3b26c6af3dd342b51fd051e...   \n",
       "2  000058a12d5b43e67d225668fa1f8d618c13dc232df0ca...   \n",
       "3  00005ca1c9ed5f5146b52ac8639a40ca9d57aeff4d1bd2...   \n",
       "4  00006413d8573cd20ed7128e53b7b13819fe5cfc2d801f...   \n",
       "\n",
       "                                          prediction  \n",
       "0  0640021019 0640021011 0448509014 0914441004 08...  \n",
       "1  0640021019 0640021011 0448509014 0914441004 08...  \n",
       "2  0640021019 0640021011 0448509014 0914441004 08...  \n",
       "3  0640021019 0640021011 0448509014 0914441004 08...  \n",
       "4  0896152001 0896152002 0925404001 0910601001 08...  "
      ]
     },
     "execution_count": 547,
     "metadata": {},
     "output_type": "execute_result"
    }
   ],
   "source": [
    "pred_df.head()"
   ]
  },
  {
   "cell_type": "code",
   "execution_count": 542,
   "id": "c391c812",
   "metadata": {},
   "outputs": [
    {
     "data": {
      "text/plain": [
       "['0751471001',\n",
       " '0909370001',\n",
       " '0918522001',\n",
       " '0924243001',\n",
       " '0918292001',\n",
       " '0915526001',\n",
       " '0448509014',\n",
       " '0915529003',\n",
       " '0751471043',\n",
       " '0706016001',\n",
       " '0865799006',\n",
       " '0863595006']"
      ]
     },
     "execution_count": 542,
     "metadata": {},
     "output_type": "execute_result"
    }
   ],
   "source": [
    "top12_sept2020"
   ]
  },
  {
   "cell_type": "code",
   "execution_count": 543,
   "id": "c89e9623",
   "metadata": {},
   "outputs": [],
   "source": [
    "pred_df.drop(columns=['in_train', 'user_gender'], inplace=True)"
   ]
  },
  {
   "cell_type": "code",
   "execution_count": 548,
   "id": "7041a263",
   "metadata": {},
   "outputs": [],
   "source": [
    "sub_path = 'tfrs_fall2020_top500_bf_4.csv'"
   ]
  },
  {
   "cell_type": "code",
   "execution_count": 549,
   "id": "f0b4a8d3",
   "metadata": {},
   "outputs": [],
   "source": [
    "pred_df.to_csv(sub_path, index=False)"
   ]
  },
  {
   "cell_type": "code",
   "execution_count": 553,
   "id": "0103b75c",
   "metadata": {},
   "outputs": [],
   "source": [
    "msg = \"'users fall 2020; top 500 articles fall 2020; brute force; feature : article_id, cust_id, user_gender, article_gender; cold-start : top12_sept2020.'\""
   ]
  },
  {
   "cell_type": "code",
   "execution_count": 556,
   "id": "63166649",
   "metadata": {},
   "outputs": [
    {
     "name": "stdout",
     "output_type": "stream",
     "text": [
      "/usr/lib/python3/dist-packages/requests/__init__.py:89: RequestsDependencyWarning: urllib3 (1.26.9) or chardet (3.0.4) doesn't match a supported version!\n",
      "  warnings.warn(\"urllib3 ({}) or chardet ({}) doesn't match a supported \"\n",
      "Warning: Your Kaggle API key is readable by other users on this system! To fix this, you can run 'chmod 600 /home/iftikar/.kaggle/kaggle.json'\n",
      "100%|████████████████████████████████████████| 258M/258M [00:28<00:00, 9.64MB/s]\n",
      "Successfully submitted to H&M Personalized Fashion Recommendations"
     ]
    }
   ],
   "source": [
    "!kaggle competitions submit -c h-and-m-personalized-fashion-recommendations -f {sub_path} -m {msg}"
   ]
  },
  {
   "cell_type": "code",
   "execution_count": null,
   "id": "6f8f7229",
   "metadata": {},
   "outputs": [],
   "source": []
  }
 ],
 "metadata": {
  "kernelspec": {
   "display_name": "Python 3 (ipykernel)",
   "language": "python",
   "name": "python3"
  },
  "language_info": {
   "codemirror_mode": {
    "name": "ipython",
    "version": 3
   },
   "file_extension": ".py",
   "mimetype": "text/x-python",
   "name": "python",
   "nbconvert_exporter": "python",
   "pygments_lexer": "ipython3",
   "version": "3.8.10"
  }
 },
 "nbformat": 4,
 "nbformat_minor": 5
}
